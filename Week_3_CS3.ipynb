{
 "cells": [
  {
   "cell_type": "markdown",
   "metadata": {},
   "source": [
    "# Week 3\n",
    "## Case Study 3: Introduction to Classification\n",
    "## Video 3.3.1: Introduction to kNN Classification"
   ]
  },
  {
   "cell_type": "markdown",
   "metadata": {},
   "source": [
    "Statistical learning refers to a collection\n",
    "of mathematical and computation tools to understand data.\n",
    "In what is often called supervised learning,\n",
    "the goal is to estimate or predict an output based on one or more inputs.\n",
    "The inputs have many names, like predictors, independent variables,\n",
    "features, and variables being called common.\n",
    "The output or outputs are often called response variables,\n",
    "or dependent variables.\n",
    "If the response is quantitative-- say, a number that measures weight or height,\n",
    "we call these problems regression problems.\n",
    "If the response is qualitative-- say, yes or no, or blue or green,\n",
    "we call these problems classification problems.This case study deals with one specific approach to classification.\n",
    "The goal is to set up a classifier such that when\n",
    "it's presented with a new observation whose category is not known,\n",
    "it will attempt to assign that observation to a category, or a class,\n",
    "based on the observations for which it does know the true category.\n",
    "This specific method is known as the k-Nearest Neighbors classifier,\n",
    "or kNN for short."
   ]
  },
  {
   "cell_type": "markdown",
   "metadata": {},
   "source": [
    "In this case study, we have seven different tasks.\n",
    "We start by finding the distance between two points,\n",
    "and we end with building our own homemade kNN classifier.\n"
   ]
  },
  {
   "cell_type": "markdown",
   "metadata": {},
   "source": [
    "## Video 3.3.2: Finding the Distance Between Two Points"
   ]
  },
  {
   "cell_type": "markdown",
   "metadata": {},
   "source": [
    "Finding the distance between two points is a commonly occurring problem.\n",
    "We would like to write a function that takes in two points\n",
    "and computes the distance between them.\n",
    "And when we say distance, we're really talking about the Euclidean distance"
   ]
  },
  {
   "cell_type": "code",
   "execution_count": 1,
   "metadata": {},
   "outputs": [
    {
     "name": "stdout",
     "output_type": "stream",
     "text": [
      "4.242640687119285\n"
     ]
    }
   ],
   "source": [
    "import numpy as np\n",
    "\n",
    "def distance(p1, p2):\n",
    "    return(np.sqrt(np.sum(np.power(p2-p1, 2))))\n",
    "\n",
    "\n",
    "p1 = np.array([1,1])\n",
    "p2 = np.array([4,4])\n",
    "\n",
    "print(distance(p1, p2))"
   ]
  },
  {
   "cell_type": "markdown",
   "metadata": {},
   "source": [
    "## Video 3.3.3: Majority Vote"
   ]
  },
  {
   "cell_type": "markdown",
   "metadata": {},
   "source": [
    "For building our KNN classifier, we need to be\n",
    "able to compute, what is sometimes called, majority vote.\n",
    "This means that given an array or a sequence of votes,\n",
    "which could be say numbers 1, 2, and 3, we\n",
    "need to determine how many times each occurs,\n",
    "and then find the most common element.  \n",
    "Let's build a function called majority vote."
   ]
  },
  {
   "cell_type": "code",
   "execution_count": 2,
   "metadata": {},
   "outputs": [
    {
     "name": "stdout",
     "output_type": "stream",
     "text": [
      "{1: 3, 2: 6, 3: 6}\n"
     ]
    }
   ],
   "source": [
    "def majorityVotes(votes):\n",
    "    voteCounts = {}\n",
    "    for vote in votes:\n",
    "        if vote in voteCounts:\n",
    "            voteCounts[vote] +=1\n",
    "        else:\n",
    "            voteCounts[vote] = 1\n",
    "    return (voteCounts)\n",
    "    \n",
    "votes = [1,1,1,2,2,2,2,2,2,3,3,3,3,3,3]\n",
    "VoteCounts = majorityVotes(votes)\n",
    "print(VoteCounts)"
   ]
  },
  {
   "cell_type": "code",
   "execution_count": 3,
   "metadata": {},
   "outputs": [
    {
     "name": "stdout",
     "output_type": "stream",
     "text": [
      "3\n",
      "6\n"
     ]
    }
   ],
   "source": [
    "maxKey = max(VoteCounts.keys())\n",
    "maxCount = max(VoteCounts.values())\n",
    "\n",
    "print(maxKey)\n",
    "print(maxCount)"
   ]
  },
  {
   "cell_type": "code",
   "execution_count": 4,
   "metadata": {},
   "outputs": [
    {
     "name": "stdout",
     "output_type": "stream",
     "text": [
      "[2, 3]\n"
     ]
    }
   ],
   "source": [
    "winners = []\n",
    "maxCount = max(VoteCounts.values())\n",
    "for vote, count in VoteCounts.items():\n",
    "    if count == maxCount:\n",
    "        winners.append(vote)\n",
    "        \n",
    "print(winners)"
   ]
  },
  {
   "cell_type": "code",
   "execution_count": 5,
   "metadata": {},
   "outputs": [],
   "source": [
    "import random\n",
    "\n",
    "def majorityVotes(votes):\n",
    "    voteCounts = {}\n",
    "    for vote in votes:\n",
    "        if vote in voteCounts:\n",
    "            voteCounts[vote] +=1\n",
    "        else:\n",
    "            voteCounts[vote] = 1\n",
    "            \n",
    "        winners = []\n",
    "        maxCount = max(VoteCounts.values())\n",
    "        for vote, count in voteCounts.items():\n",
    "            if count == maxCount:\n",
    "                winners.append(vote)\n",
    "                \n",
    "    return (random.choice(winners))"
   ]
  },
  {
   "cell_type": "code",
   "execution_count": 6,
   "metadata": {},
   "outputs": [
    {
     "name": "stdout",
     "output_type": "stream",
     "text": [
      "3\n"
     ]
    }
   ],
   "source": [
    "votes = [1,1,1,2,2,2,2,2,2,3,3,3,3,3,3]\n",
    "winner = majorityVotes(votes)\n",
    "print(winner)"
   ]
  },
  {
   "cell_type": "code",
   "execution_count": 7,
   "metadata": {},
   "outputs": [],
   "source": [
    "import scipy.stats as ss\n",
    "\n",
    "def majorityVotesShort(votes):\n",
    "    \"\"\"return the most common element in votes short version\"\"\"\n",
    "    mode, count = ss.stats.mode(votes)       \n",
    "    return (mode)"
   ]
  },
  {
   "cell_type": "code",
   "execution_count": 8,
   "metadata": {},
   "outputs": [
    {
     "name": "stdout",
     "output_type": "stream",
     "text": [
      "[2]\n"
     ]
    }
   ],
   "source": [
    "votes = [1,1,1,2,2,2,2,2,2,3,3,3,3,3,3]\n",
    "winner = majorityVotesShort(votes) # always return number 2 <-- look documentation of ss.stats.mode()\n",
    "print(winner)"
   ]
  },
  {
   "cell_type": "markdown",
   "metadata": {},
   "source": [
    "## Video 3.3.4: Finding Nearest Neighbors"
   ]
  },
  {
   "cell_type": "markdown",
   "metadata": {},
   "source": [
    "Using very informal pseudocode, let's see\n",
    "how we might be able to identify those nearest neighbors."
   ]
  },
  {
   "cell_type": "code",
   "execution_count": 9,
   "metadata": {},
   "outputs": [],
   "source": [
    "# loop over all points\n",
    "    # compute the distance between point p and every other point \n",
    "# sort distance and return those k points that are nearset to point p"
   ]
  },
  {
   "cell_type": "code",
   "execution_count": 15,
   "metadata": {},
   "outputs": [
    {
     "data": {
      "image/png": "[encoded data removed]",
      "text/plain": [
       "<matplotlib.figure.Figure at 0x20d31c4b780>"
      ]
     },
     "metadata": {},
     "output_type": "display_data"
    }
   ],
   "source": [
    "# Test data:\n",
    "import numpy as np\n",
    "import matplotlib.pyplot as plt\n",
    "\n",
    "def distance(p1, p2):\n",
    "    return(np.sqrt(np.sum(np.power(p2-p1, 2))))\n",
    "\n",
    "distances = np.zeros(points.shape[0])\n",
    "for i in range(len(distances)):\n",
    "    distances[i] = distance(p, points[i])\n",
    "    \n",
    "points = np.array([[1,1], [1,2], [1,3], [2,1], [2,2], [2,3], [3,1], [3,2], [3,3]])\n",
    "p = np.array([2.5, 2])\n",
    "plt.plot(points[:, 0], points[:, 1], \"ro\");\n",
    "plt.plot(p[0], p[1], \"bo\");\n",
    "#plt.axes([0.5,3.5,0.5,3.5])\n",
    "plt.show();\n"
   ]
  },
  {
   "cell_type": "code",
   "execution_count": 16,
   "metadata": {},
   "outputs": [
    {
     "name": "stdout",
     "output_type": "stream",
     "text": [
      "[1.80277564 1.5        1.80277564 1.11803399 0.5        1.11803399\n",
      " 1.11803399 0.5        1.11803399]\n"
     ]
    }
   ],
   "source": [
    "print(distances)\n"
   ]
  },
  {
   "cell_type": "code",
   "execution_count": 17,
   "metadata": {},
   "outputs": [
    {
     "name": "stdout",
     "output_type": "stream",
     "text": [
      "[4 7 3 5 6 8 1 0 2]\n"
     ]
    }
   ],
   "source": [
    "ind = np.argsort(distances)\n",
    "print(ind)"
   ]
  },
  {
   "cell_type": "code",
   "execution_count": 18,
   "metadata": {},
   "outputs": [
    {
     "name": "stdout",
     "output_type": "stream",
     "text": [
      "[0.5        0.5        1.11803399 1.11803399 1.11803399 1.11803399\n",
      " 1.5        1.80277564 1.80277564]\n"
     ]
    }
   ],
   "source": [
    "print(distances[ind])\n"
   ]
  },
  {
   "cell_type": "code",
   "execution_count": 19,
   "metadata": {},
   "outputs": [
    {
     "name": "stdout",
     "output_type": "stream",
     "text": [
      "[0.5 0.5]\n"
     ]
    }
   ],
   "source": [
    "# k nerest. \n",
    "k = 2\n",
    "print(distances[ind[0: k]])"
   ]
  },
  {
   "cell_type": "code",
   "execution_count": 20,
   "metadata": {},
   "outputs": [],
   "source": [
    "# combine it in to the function:\n",
    "\n",
    "def findNearestNeighbours(p, points, k = 5):\n",
    "    \"\"\" Find the k nearest neighbours of point p and return thair indices \"\"\"\n",
    "    distances = np.zeros(points.shape[0])\n",
    "    for i in range(len(distances)):\n",
    "        distances[i] = distance(p, points[i])\n",
    "    ind = np.argsort(distances)\n",
    "    return(ind[: k])\n",
    "    "
   ]
  },
  {
   "cell_type": "code",
   "execution_count": 21,
   "metadata": {},
   "outputs": [
    {
     "name": "stdout",
     "output_type": "stream",
     "text": [
      "[[2 2]\n",
      " [3 2]]\n",
      "\n",
      "\n",
      "[[2 2]\n",
      " [3 2]\n",
      " [2 1]]\n"
     ]
    }
   ],
   "source": [
    "points = np.array([[1,1], [1,2], [1,3], [2,1], [2,2], [2,3], [3,1], [3,2], [3,3]])\n",
    "p = np.array([2.5, 2])\n",
    "\n",
    "ind = findNearestNeighbours(p, points, 2)\n",
    "print(points[ind])\n",
    "print(\"\\n\")\n",
    "\n",
    "ind = findNearestNeighbours(p, points, 3)\n",
    "print(points[ind])"
   ]
  },
  {
   "cell_type": "markdown",
   "metadata": {},
   "source": [
    "Let's then write the function to predict the class of our new point p.\n",
    "We'll call that function knn predict, and it\n",
    "takes in three parameters-- p, the new point we'd like to classify,\n",
    "points, our existing data or our training data, and the value for k.\n",
    "Let's first write this as pseudocode."
   ]
  },
  {
   "cell_type": "code",
   "execution_count": 22,
   "metadata": {},
   "outputs": [],
   "source": [
    "# find k nearest neighbours\n",
    "# predict the class of p based on majority vote"
   ]
  },
  {
   "cell_type": "code",
   "execution_count": 27,
   "metadata": {},
   "outputs": [],
   "source": [
    "def knn_predict(p, points, outcomes, k=5):\n",
    "    ind = findNearestNeighbours(p, points, k)\n",
    "    return(majorityVotes(outcomes[ind]))"
   ]
  },
  {
   "cell_type": "code",
   "execution_count": 29,
   "metadata": {},
   "outputs": [
    {
     "ename": "IndexError",
     "evalue": "Cannot choose from an empty sequence",
     "output_type": "error",
     "traceback": [
      "\u001b[1;31m---------------------------------------------------------------------------\u001b[0m",
      "\u001b[1;31mIndexError\u001b[0m                                Traceback (most recent call last)",
      "\u001b[1;32m<ipython-input-29-9b769c1284a4>\u001b[0m in \u001b[0;36m<module>\u001b[1;34m()\u001b[0m\n\u001b[0;32m      2\u001b[0m \u001b[0mpoints\u001b[0m \u001b[1;33m=\u001b[0m \u001b[0mnp\u001b[0m\u001b[1;33m.\u001b[0m\u001b[0marray\u001b[0m\u001b[1;33m(\u001b[0m\u001b[1;33m[\u001b[0m\u001b[1;33m[\u001b[0m\u001b[1;36m1\u001b[0m\u001b[1;33m,\u001b[0m\u001b[1;36m1\u001b[0m\u001b[1;33m]\u001b[0m\u001b[1;33m,\u001b[0m \u001b[1;33m[\u001b[0m\u001b[1;36m1\u001b[0m\u001b[1;33m,\u001b[0m\u001b[1;36m2\u001b[0m\u001b[1;33m]\u001b[0m\u001b[1;33m,\u001b[0m \u001b[1;33m[\u001b[0m\u001b[1;36m1\u001b[0m\u001b[1;33m,\u001b[0m\u001b[1;36m3\u001b[0m\u001b[1;33m]\u001b[0m\u001b[1;33m,\u001b[0m \u001b[1;33m[\u001b[0m\u001b[1;36m2\u001b[0m\u001b[1;33m,\u001b[0m\u001b[1;36m1\u001b[0m\u001b[1;33m]\u001b[0m\u001b[1;33m,\u001b[0m \u001b[1;33m[\u001b[0m\u001b[1;36m2\u001b[0m\u001b[1;33m,\u001b[0m\u001b[1;36m2\u001b[0m\u001b[1;33m]\u001b[0m\u001b[1;33m,\u001b[0m \u001b[1;33m[\u001b[0m\u001b[1;36m2\u001b[0m\u001b[1;33m,\u001b[0m\u001b[1;36m3\u001b[0m\u001b[1;33m]\u001b[0m\u001b[1;33m,\u001b[0m \u001b[1;33m[\u001b[0m\u001b[1;36m3\u001b[0m\u001b[1;33m,\u001b[0m\u001b[1;36m1\u001b[0m\u001b[1;33m]\u001b[0m\u001b[1;33m,\u001b[0m \u001b[1;33m[\u001b[0m\u001b[1;36m3\u001b[0m\u001b[1;33m,\u001b[0m\u001b[1;36m2\u001b[0m\u001b[1;33m]\u001b[0m\u001b[1;33m,\u001b[0m \u001b[1;33m[\u001b[0m\u001b[1;36m3\u001b[0m\u001b[1;33m,\u001b[0m\u001b[1;36m3\u001b[0m\u001b[1;33m]\u001b[0m\u001b[1;33m]\u001b[0m\u001b[1;33m)\u001b[0m\u001b[1;33m\u001b[0m\u001b[0m\n\u001b[0;32m      3\u001b[0m \u001b[1;33m\u001b[0m\u001b[0m\n\u001b[1;32m----> 4\u001b[1;33m \u001b[0mknn_predict\u001b[0m\u001b[1;33m(\u001b[0m\u001b[0mnp\u001b[0m\u001b[1;33m.\u001b[0m\u001b[0marray\u001b[0m\u001b[1;33m(\u001b[0m\u001b[1;33m[\u001b[0m\u001b[1;36m2.5\u001b[0m\u001b[1;33m,\u001b[0m\u001b[1;36m2.7\u001b[0m\u001b[1;33m]\u001b[0m\u001b[1;33m)\u001b[0m\u001b[1;33m,\u001b[0m \u001b[0mpoints\u001b[0m\u001b[1;33m,\u001b[0m \u001b[0moutcomes\u001b[0m\u001b[1;33m,\u001b[0m \u001b[0mk\u001b[0m\u001b[1;33m=\u001b[0m\u001b[1;36m2\u001b[0m\u001b[1;33m)\u001b[0m\u001b[1;33m\u001b[0m\u001b[0m\n\u001b[0m",
      "\u001b[1;32m<ipython-input-27-ea5d69f3c22e>\u001b[0m in \u001b[0;36mknn_predict\u001b[1;34m(p, points, outcomes, k)\u001b[0m\n\u001b[0;32m      1\u001b[0m \u001b[1;32mdef\u001b[0m \u001b[0mknn_predict\u001b[0m\u001b[1;33m(\u001b[0m\u001b[0mp\u001b[0m\u001b[1;33m,\u001b[0m \u001b[0mpoints\u001b[0m\u001b[1;33m,\u001b[0m \u001b[0moutcomes\u001b[0m\u001b[1;33m,\u001b[0m \u001b[0mk\u001b[0m\u001b[1;33m=\u001b[0m\u001b[1;36m5\u001b[0m\u001b[1;33m)\u001b[0m\u001b[1;33m:\u001b[0m\u001b[1;33m\u001b[0m\u001b[0m\n\u001b[0;32m      2\u001b[0m     \u001b[0mind\u001b[0m \u001b[1;33m=\u001b[0m \u001b[0mfindNearestNeighbours\u001b[0m\u001b[1;33m(\u001b[0m\u001b[0mp\u001b[0m\u001b[1;33m,\u001b[0m \u001b[0mpoints\u001b[0m\u001b[1;33m,\u001b[0m \u001b[0mk\u001b[0m\u001b[1;33m)\u001b[0m\u001b[1;33m\u001b[0m\u001b[0m\n\u001b[1;32m----> 3\u001b[1;33m     \u001b[1;32mreturn\u001b[0m\u001b[1;33m(\u001b[0m\u001b[0mmajorityVotes\u001b[0m\u001b[1;33m(\u001b[0m\u001b[0moutcomes\u001b[0m\u001b[1;33m[\u001b[0m\u001b[0mind\u001b[0m\u001b[1;33m]\u001b[0m\u001b[1;33m)\u001b[0m\u001b[1;33m)\u001b[0m\u001b[1;33m\u001b[0m\u001b[0m\n\u001b[0m",
      "\u001b[1;32m<ipython-input-5-6d92d8a3262a>\u001b[0m in \u001b[0;36mmajorityVotes\u001b[1;34m(votes)\u001b[0m\n\u001b[0;32m     15\u001b[0m                 \u001b[0mwinners\u001b[0m\u001b[1;33m.\u001b[0m\u001b[0mappend\u001b[0m\u001b[1;33m(\u001b[0m\u001b[0mvote\u001b[0m\u001b[1;33m)\u001b[0m\u001b[1;33m\u001b[0m\u001b[0m\n\u001b[0;32m     16\u001b[0m \u001b[1;33m\u001b[0m\u001b[0m\n\u001b[1;32m---> 17\u001b[1;33m     \u001b[1;32mreturn\u001b[0m \u001b[1;33m(\u001b[0m\u001b[0mrandom\u001b[0m\u001b[1;33m.\u001b[0m\u001b[0mchoice\u001b[0m\u001b[1;33m(\u001b[0m\u001b[0mwinners\u001b[0m\u001b[1;33m)\u001b[0m\u001b[1;33m)\u001b[0m\u001b[1;33m\u001b[0m\u001b[0m\n\u001b[0m",
      "\u001b[1;32mC:\\Anaconda3\\lib\\random.py\u001b[0m in \u001b[0;36mchoice\u001b[1;34m(self, seq)\u001b[0m\n\u001b[0;32m    256\u001b[0m             \u001b[0mi\u001b[0m \u001b[1;33m=\u001b[0m \u001b[0mself\u001b[0m\u001b[1;33m.\u001b[0m\u001b[0m_randbelow\u001b[0m\u001b[1;33m(\u001b[0m\u001b[0mlen\u001b[0m\u001b[1;33m(\u001b[0m\u001b[0mseq\u001b[0m\u001b[1;33m)\u001b[0m\u001b[1;33m)\u001b[0m\u001b[1;33m\u001b[0m\u001b[0m\n\u001b[0;32m    257\u001b[0m         \u001b[1;32mexcept\u001b[0m \u001b[0mValueError\u001b[0m\u001b[1;33m:\u001b[0m\u001b[1;33m\u001b[0m\u001b[0m\n\u001b[1;32m--> 258\u001b[1;33m             \u001b[1;32mraise\u001b[0m \u001b[0mIndexError\u001b[0m\u001b[1;33m(\u001b[0m\u001b[1;34m'Cannot choose from an empty sequence'\u001b[0m\u001b[1;33m)\u001b[0m \u001b[1;32mfrom\u001b[0m \u001b[1;32mNone\u001b[0m\u001b[1;33m\u001b[0m\u001b[0m\n\u001b[0m\u001b[0;32m    259\u001b[0m         \u001b[1;32mreturn\u001b[0m \u001b[0mseq\u001b[0m\u001b[1;33m[\u001b[0m\u001b[0mi\u001b[0m\u001b[1;33m]\u001b[0m\u001b[1;33m\u001b[0m\u001b[0m\n\u001b[0;32m    260\u001b[0m \u001b[1;33m\u001b[0m\u001b[0m\n",
      "\u001b[1;31mIndexError\u001b[0m: Cannot choose from an empty sequence"
     ]
    }
   ],
   "source": [
    "outcomes = np.array([0,0,0,0,1,1,1,1,1]) # possibe classification classes 0, 1\n",
    "points = np.array([[1,1], [1,2], [1,3], [2,1], [2,2], [2,3], [3,1], [3,2], [3,3]])\n",
    "\n",
    "knn_predict(np.array([2.5,2.7]), points, outcomes, k=2)"
   ]
  },
  {
   "cell_type": "markdown",
   "metadata": {},
   "source": [
    "## Video 3.3.5: Generating Synthetic Data"
   ]
  },
  {
   "cell_type": "code",
   "execution_count": 30,
   "metadata": {},
   "outputs": [
    {
     "data": {
      "text/plain": [
       "array([[ 0.97690322, -0.58776161],\n",
       "       [-1.16959694, -0.36614877],\n",
       "       [ 1.12726866, -1.12206885],\n",
       "       [ 0.18412981, -1.08463096],\n",
       "       [ 1.70859251,  0.31283916],\n",
       "       [-0.50764988, -0.63201218],\n",
       "       [ 1.49856893,  1.98993019],\n",
       "       [ 1.30112828,  1.96292085],\n",
       "       [ 0.50846482,  0.93809585],\n",
       "       [ 0.3022972 ,  1.38767935]])"
      ]
     },
     "execution_count": 30,
     "metadata": {},
     "output_type": "execute_result"
    }
   ],
   "source": [
    "import scipy.stats as ss\n",
    "import numpy as np\n",
    "import matplotlib.pyplot as plt\n",
    "\n",
    "\n",
    "ss.norm(0,1).rvs((5,2)) # generate... in 5 rows and 2 columns\n",
    "ss.norm(1,1).rvs((5,2))\n",
    "\n",
    "np.concatenate((ss.norm(0,1).rvs((5,2)), ss.norm(1,1).rvs((5,2))), axis = 0) # concatinate accros rows (axis = 0)"
   ]
  },
  {
   "cell_type": "code",
   "execution_count": 31,
   "metadata": {},
   "outputs": [],
   "source": [
    "n = 20\n",
    "\n",
    "outcomes = np.concatenate((np.repeat(0,n), np.repeat(1,n)))\n"
   ]
  },
  {
   "cell_type": "code",
   "execution_count": 32,
   "metadata": {},
   "outputs": [],
   "source": [
    "# all together as a function:\n",
    "\n",
    "def generateSynthData(n = 50):\n",
    "    \"\"\"Create two sets of points form bivariate normal distribution.\"\"\"\n",
    "    points = np.concatenate((ss.norm(0,1).rvs((n,2)), ss.norm(1,1).rvs((n,2))), axis = 0)\n",
    "    outcomes = np.concatenate((np.repeat(0,n), np.repeat(1,n)))\n",
    "    return(points, outcomes)\n",
    "    "
   ]
  },
  {
   "cell_type": "code",
   "execution_count": 33,
   "metadata": {},
   "outputs": [],
   "source": [
    "#print(generateSynthData(20))"
   ]
  },
  {
   "cell_type": "code",
   "execution_count": 34,
   "metadata": {},
   "outputs": [
    {
     "data": {
      "text/plain": [
       "<matplotlib.figure.Figure at 0x20d320245f8>"
      ]
     },
     "execution_count": 34,
     "metadata": {},
     "output_type": "execute_result"
    },
    {
     "data": {
      "image/png": "[encoded data removed]",
      "text/plain": [
       "<matplotlib.figure.Figure at 0x20d31fe6cf8>"
      ]
     },
     "metadata": {},
     "output_type": "display_data"
    },
    {
     "data": {
      "text/plain": [
       "<matplotlib.figure.Figure at 0x20d320245f8>"
      ]
     },
     "metadata": {},
     "output_type": "display_data"
    }
   ],
   "source": [
    "points, outcomes = generateSynthData(20)\n",
    "n= 20\n",
    "plt.plot(points[:n,0], points[:n, 1], \"ro\");\n",
    "plt.plot(points[n:,0], points[n:, 1], \"bo\");\n",
    "plt.figure()"
   ]
  },
  {
   "cell_type": "markdown",
   "metadata": {},
   "source": [
    "## Video 3.3.6: Making a Prediction Grid"
   ]
  },
  {
   "cell_type": "code",
   "execution_count": 35,
   "metadata": {},
   "outputs": [],
   "source": [
    "##################### Introduction to Classification All. #####################\n",
    "\n",
    "import scipy.stats as ss\n",
    "import numpy as np\n",
    "import matplotlib.pyplot as plt\n",
    "from matplotlib.colors import ListedColormap\n",
    "import random\n",
    "\n",
    "\n",
    "def majorityVotes(votes):\n",
    "    \"\"\"Return winner based on votes\"\"\"\n",
    "    voteCounts = {}\n",
    "    for vote in votes:\n",
    "        if vote in voteCounts:\n",
    "            voteCounts[vote] +=1\n",
    "        else:\n",
    "            voteCounts[vote] = 1\n",
    "            \n",
    "        winners = []\n",
    "        maxCount = max(voteCounts.values())\n",
    "        for vote, count in voteCounts.items():\n",
    "            if count == maxCount:\n",
    "                winners.append(vote)\n",
    "                \n",
    "    return (random.choice(winners))\n",
    "\n",
    "\n",
    "def distance(p1, p2):\n",
    "    \"\"\"Return the distance between points\"\"\"\n",
    "    return(np.sqrt(np.sum(np.power(p2-p1, 2))))\n",
    "\n",
    "\n",
    "def findNearestNeighbours(p, points, k = 5):\n",
    "    \"\"\" Find the k nearest neighbours of point p and return thair indices \"\"\"\n",
    "    distances = np.zeros(points.shape[0])\n",
    "    for i in range(len(distances)):\n",
    "        distances[i] = distance(p, points[i])\n",
    "    ind = np.argsort(distances)\n",
    "    return(ind[:k])\n",
    "\n",
    "\n",
    "def knn_predict(p, points, outcomes, k=5):\n",
    "    ind = findNearestNeighbours(p, points, k)\n",
    "    return(majorityVotes(outcomes[ind]))\n",
    "\n",
    "\n",
    "def generateSynthData(n = 50):\n",
    "    \"\"\"Create two sets of points form bivariate normal distribution.\"\"\"\n",
    "    points = np.concatenate((ss.norm(0,1).rvs((n,2)), ss.norm(1,1).rvs((n,2))), axis = 0)\n",
    "    outcomes = np.concatenate((np.repeat(0,n), np.repeat(1,n)))\n",
    "    return(points, outcomes)\n",
    "\n",
    "\n",
    "##################### Making a Prediction Grid #####################\n",
    "\n",
    "def makePredictionGrid(predictors, outcomes, limits, h, k):\n",
    "    \"\"\"Create prediction Grid using np.mashgrid\"\"\"\n",
    "    (xMin, xMax, yMin, yMax) = limits\n",
    "    xs = np.arange(xMin, xMax, h)\n",
    "    ys = np.arange(yMin, yMax, h)\n",
    "    xx, yy = np.meshgrid(xs,ys)\n",
    "    \n",
    "    predictionGrid = np.zeros(xx.shape, dtype = int)\n",
    "    for i, x in enumerate(xs):\n",
    "        for j, y in enumerate(ys):\n",
    "            p = np.array([y,x])\n",
    "            predictionGrid[j,i] = knn_predict(p, predictors, outcomes, k)\n",
    "    return(xx, yy, predictionGrid)\n",
    "\n",
    "\n",
    "def plotPredictionGrid (xx, yy, predictionGrid, filename):\n",
    "    \"\"\"Plot KNN predictions for every point on the grid.\"\"\"\n",
    "    background_colormap = ListedColormap ([\"hotpink\",\"lightskyblue\",\"yellowgreen\"])\n",
    "    observation_colormap = ListedColormap ([\"red\",\"blue\",\"green\"])\n",
    "    plt.figure(figsize =(10,10))\n",
    "    plt.pcolormesh(xx, yy, predictionGrid, cmap = background_colormap, alpha = 0.5)\n",
    "    plt.scatter(predictors[:,0], predictors [:,1], c = outcomes, cmap = observation_colormap, s = 50)\n",
    "    plt.xlabel('Variable 1'); plt.ylabel('Variable 2')\n",
    "    plt.xticks(()); plt.yticks(())\n",
    "    plt.xlim (np.min(xx), np.max(xx))\n",
    "    plt.ylim (np.min(yy), np.max(yy))\n",
    "    plt.savefig(filename)"
   ]
  },
  {
   "cell_type": "code",
   "execution_count": 36,
   "metadata": {},
   "outputs": [
    {
     "name": "stdout",
     "output_type": "stream",
     "text": [
      "(100, 2)\n",
      "(100,)\n"
     ]
    }
   ],
   "source": [
    "# Predictors and Outcomes shape check\n",
    "\n",
    "(predictors, outcomes) = generateSynthData()\n",
    "print(predictors.shape)\n",
    "print(outcomes.shape)"
   ]
  },
  {
   "cell_type": "code",
   "execution_count": 37,
   "metadata": {},
   "outputs": [
    {
     "data": {
      "image/png": "[encoded data removed]",
      "text/plain": [
       "<matplotlib.figure.Figure at 0x20d31d89908>"
      ]
     },
     "metadata": {},
     "output_type": "display_data"
    }
   ],
   "source": [
    "# Test for kNNClassification:\n",
    "\n",
    "(predictors, outcomes) = generateSynthData()\n",
    "k = 5; filename = \"knn_synth_5.png\"; limits = (-3,4,-3,4); h = 0.1\n",
    "(xx, yy, predictionGrid) = makePredictionGrid(predictors, outcomes, limits, h, k)\n",
    "plotPredictionGrid(xx, yy, predictionGrid, filename)"
   ]
  },
  {
   "cell_type": "markdown",
   "metadata": {},
   "source": [
    "## Video 3.3.8: Applying the kNN Method"
   ]
  },
  {
   "cell_type": "code",
   "execution_count": 38,
   "metadata": {},
   "outputs": [],
   "source": [
    "from sklearn import datasets"
   ]
  },
  {
   "cell_type": "code",
   "execution_count": 39,
   "metadata": {},
   "outputs": [
    {
     "data": {
      "image/png": "[encoded data removed]",
      "text/plain": [
       "<matplotlib.figure.Figure at 0x20d332c1f98>"
      ]
     },
     "metadata": {},
     "output_type": "display_data"
    }
   ],
   "source": [
    "iris = datasets.load_iris()\n",
    "predictors = iris.data[:, 0:2]\n",
    "outcomes = iris.target\n",
    "plt.plot(predictors[outcomes==0][:,0], predictors[outcomes==0][:,1], \"ro\")\n",
    "plt.plot(predictors[outcomes==1][:,0], predictors[outcomes==1][:,1], \"go\")\n",
    "plt.plot(predictors[outcomes==2][:,0], predictors[outcomes==2][:,1], \"bo\")\n",
    "plt.savefig(\"iris.png\")"
   ]
  },
  {
   "cell_type": "code",
   "execution_count": 40,
   "metadata": {},
   "outputs": [
    {
     "data": {
      "image/png": "[encoded data removed]",
      "text/plain": [
       "<matplotlib.figure.Figure at 0x20d332cbfd0>"
      ]
     },
     "metadata": {},
     "output_type": "display_data"
    }
   ],
   "source": [
    "k = 5; filename = \"knn_iris.png\"; limits = (3.5,9,1,5); h = 0.1\n",
    "(xx, yy, predictionGrid) = makePredictionGrid(predictors, outcomes, limits, h, k)\n",
    "plotPredictionGrid(xx, yy, predictionGrid, filename)"
   ]
  },
  {
   "cell_type": "code",
   "execution_count": 42,
   "metadata": {},
   "outputs": [],
   "source": [
    "from sklearn.neighbors import KNeighborsClassifier\n",
    "knn = KNeighborsClassifier(n_neighbors = 5)\n",
    "knn.fit(predictors, outcomes)\n",
    "\n",
    "sk_predictions = knn.predict(predictors)"
   ]
  },
  {
   "cell_type": "code",
   "execution_count": null,
   "metadata": {},
   "outputs": [],
   "source": []
  }
 ],
 "metadata": {
  "kernelspec": {
   "display_name": "Python 3",
   "language": "python",
   "name": "python3"
  },
  "language_info": {
   "codemirror_mode": {
    "name": "ipython",
    "version": 3
   },
   "file_extension": ".py",
   "mimetype": "text/x-python",
   "name": "python",
   "nbconvert_exporter": "python",
   "pygments_lexer": "ipython3",
   "version": "3.6.4"
  }
 },
 "nbformat": 4,
 "nbformat_minor": 2
}
