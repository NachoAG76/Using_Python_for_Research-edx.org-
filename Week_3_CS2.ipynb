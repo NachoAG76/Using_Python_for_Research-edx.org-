{
 "cells": [
  {
   "cell_type": "markdown",
   "metadata": {},
   "source": [
    "# Week 3\n",
    "## Case Study 2: Language Processing\n",
    "## Video 3.2.1: Introduction to Language Processing"
   ]
  },
  {
   "cell_type": "markdown",
   "metadata": {},
   "source": [
    "Patterns within written text are not the same across all authors or languages. In this case study, we will examine the properties of individual books\n",
    "in a book collection from various authors and various languages. More specifically, we will look at book lengths, number of unique words, and how these attributes cluster by language of or authorship.  \n",
    "We have downloaded a collection of over 100 titles\n",
    "from Project Gutenberg for analysis as a sample library for this case study.\n",
    "The downloaded sample consist of several nested folders.\n",
    "At the top level, we have four languages: English, French, German,\n",
    "and Portuguese.  \n",
    "Our goal is to write a function that given\n",
    "a string of text counts the number of times each unique word appears.\n",
    "What's the best way to keep track of these words? Because we'd like to associate each word with a counter,\n",
    "Python dictionaries are a very natural choice.\n",
    "Here, the keys are strings, the words containing the input text,\n",
    "and the values are numbers that counts indicating how many times\n",
    "each word appears in the text."
   ]
  },
  {
   "cell_type": "markdown",
   "metadata": {},
   "source": [
    "## Video 3.2.2: Counting Words"
   ]
  },
  {
   "cell_type": "code",
   "execution_count": 1,
   "metadata": {},
   "outputs": [],
   "source": [
    "# Before we start coding the function itself it's helpful to create a test string.\n",
    "test = \"This is my test text. We're keeping this short text to keep things manageable\""
   ]
  },
  {
   "cell_type": "code",
   "execution_count": 2,
   "metadata": {},
   "outputs": [],
   "source": [
    "def countWords(text):\n",
    "    \"\"\"\n",
    "    Count the number of times each word occures in the input text (str).\n",
    "    Outputs dict with keys - words, values - number of times thay appear\n",
    "    \"\"\"\n",
    "    wordsCounts = {}\n",
    "    for word in text.split(\" \"):\n",
    "        if word in wordsCounts:\n",
    "            wordsCounts[word] +=1\n",
    "        else:\n",
    "            wordsCounts[word] = 1\n",
    "    return(wordsCounts)\n",
    "            \n",
    "        \n",
    "    "
   ]
  },
  {
   "cell_type": "code",
   "execution_count": 3,
   "metadata": {},
   "outputs": [
    {
     "data": {
      "text/plain": [
       "{'This': 1,\n",
       " \"We're\": 1,\n",
       " 'is': 1,\n",
       " 'keep': 1,\n",
       " 'keeping': 1,\n",
       " 'manageable': 1,\n",
       " 'my': 1,\n",
       " 'short': 1,\n",
       " 'test': 1,\n",
       " 'text': 1,\n",
       " 'text.': 1,\n",
       " 'things': 1,\n",
       " 'this': 1,\n",
       " 'to': 1}"
      ]
     },
     "execution_count": 3,
     "metadata": {},
     "output_type": "execute_result"
    }
   ],
   "source": [
    "countWords(test)"
   ]
  },
  {
   "cell_type": "markdown",
   "metadata": {},
   "source": [
    "to avoid repitional it is necesery to delet all the panctuataions and make text consistant - lower case. ......."
   ]
  },
  {
   "cell_type": "code",
   "execution_count": 6,
   "metadata": {},
   "outputs": [],
   "source": [
    "def countWords(text):\n",
    "    \"\"\"\n",
    "    Count the number of times each word occures in the input text (str).\n",
    "    Outputs dict with keys - words, values - number of times thay appear\n",
    "    \"\"\"\n",
    "    \n",
    "    text = text.lower()\n",
    "    skip = [\".\",\",\",\";\",\"'\",'\"']\n",
    "    for char in skip:\n",
    "        text = text.replace(char, \"\")\n",
    "    \n",
    "    wordsCounts = {}\n",
    "    for word in text.split(\" \"):\n",
    "        if word in wordsCounts:\n",
    "            wordsCounts[word] +=1\n",
    "        else:\n",
    "            wordsCounts[word] = 1\n",
    "            \n",
    "    return(wordsCounts)\n"
   ]
  },
  {
   "cell_type": "code",
   "execution_count": 7,
   "metadata": {},
   "outputs": [
    {
     "data": {
      "text/plain": [
       "{'is': 1,\n",
       " 'keep': 1,\n",
       " 'keeping': 1,\n",
       " 'manageable': 1,\n",
       " 'my': 1,\n",
       " 'short': 1,\n",
       " 'test': 1,\n",
       " 'text': 2,\n",
       " 'things': 1,\n",
       " 'this': 2,\n",
       " 'to': 1,\n",
       " 'were': 1}"
      ]
     },
     "execution_count": 7,
     "metadata": {},
     "output_type": "execute_result"
    }
   ],
   "source": [
    "countWords(test)"
   ]
  },
  {
   "cell_type": "markdown",
   "metadata": {},
   "source": [
    "It's useful to be able to write your own counting routine like we just did.\n",
    "However, counting the frequency of objects\n",
    "is such a common operation that Python provides\n",
    "what is known as a counter tool to support rabbit tallies.\n",
    "We first need to import it from the collections module, which\n",
    "provides many additional high performance data types.\n",
    "The object returned by counter behaves much like a dictionary,\n",
    "although strictly speaking it's a subclass of the Python dictionary\n",
    "object."
   ]
  },
  {
   "cell_type": "code",
   "execution_count": 18,
   "metadata": {},
   "outputs": [],
   "source": [
    "from collections import Counter\n",
    "\n",
    "\n",
    "def countWordsFast(text):\n",
    "    \"\"\"\n",
    "    Count the number of times each word occures in the input text (str).\n",
    "    Outputs dict with keys - words, values - number of times thay appear\n",
    "    \"\"\"\n",
    "    \n",
    "    text = text.lower()\n",
    "    skip = [\".\",\",\",\";\",\"'\",'\"']\n",
    "    for char in skip:\n",
    "        text = text.replace(char, \"\")\n",
    "    \n",
    "    wordsCounts = Counter(text.split(\" \"))\n",
    "            \n",
    "    return(wordsCounts)"
   ]
  },
  {
   "cell_type": "code",
   "execution_count": 19,
   "metadata": {},
   "outputs": [
    {
     "data": {
      "text/plain": [
       "Counter({'is': 1,\n",
       "         'keep': 1,\n",
       "         'keeping': 1,\n",
       "         'manageable': 1,\n",
       "         'my': 1,\n",
       "         'short': 1,\n",
       "         'test': 1,\n",
       "         'text': 2,\n",
       "         'things': 1,\n",
       "         'this': 2,\n",
       "         'to': 1,\n",
       "         'were': 1})"
      ]
     },
     "execution_count": 19,
     "metadata": {},
     "output_type": "execute_result"
    }
   ],
   "source": [
    "# Before we start coding the function itself it's helpful to create a test string.\n",
    "text = \"This is my test text. We're keeping this short text to keep things manageable\"\n",
    "\n",
    "countWordsFast(text)"
   ]
  },
  {
   "cell_type": "markdown",
   "metadata": {},
   "source": [
    "We want to ask Python if that's equal to the object which is returned by count_words_fast on that same input.\n",
    "In this case, the answer is true, therefore\n",
    "we know that these two different implementations of the same function\n",
    "return identical objects.\n"
   ]
  },
  {
   "cell_type": "code",
   "execution_count": 21,
   "metadata": {},
   "outputs": [
    {
     "data": {
      "text/plain": [
       "True"
      ]
     },
     "execution_count": 21,
     "metadata": {},
     "output_type": "execute_result"
    }
   ],
   "source": [
    "countWordsFast(text) == countWords(text)"
   ]
  },
  {
   "cell_type": "code",
   "execution_count": 23,
   "metadata": {},
   "outputs": [
    {
     "data": {
      "text/plain": [
       "6"
      ]
     },
     "execution_count": 23,
     "metadata": {},
     "output_type": "execute_result"
    }
   ],
   "source": [
    "len(countWords(\"This comprehension check is to check for comprehension.\"))"
   ]
  },
  {
   "cell_type": "code",
   "execution_count": 25,
   "metadata": {},
   "outputs": [
    {
     "data": {
      "text/plain": [
       "False"
      ]
     },
     "execution_count": 25,
     "metadata": {},
     "output_type": "execute_result"
    }
   ],
   "source": [
    "countWords(text) is countWordsFast(text)"
   ]
  },
  {
   "cell_type": "markdown",
   "metadata": {},
   "source": [
    "## Video 3.2.3: Reading in a Book"
   ]
  },
  {
   "cell_type": "markdown",
   "metadata": {},
   "source": [
    "We're familiar by now with reading files.\n",
    "But here we'll include an additional argument.\n",
    "Character encoding refers to the process how\n",
    "computer encodes certain characters.\n",
    "In this case, we'll use what is called UTF-8 encoding, which\n",
    "is the dominant character encoding for the web.\n",
    "We will also replace backslash n and backslash r characters."
   ]
  },
  {
   "cell_type": "code",
   "execution_count": 40,
   "metadata": {},
   "outputs": [],
   "source": [
    "import os\n",
    "\n",
    "# Before we start coding the function itself it's helpful to create a test string.\n",
    "text = \"This is my test text. We're keeping this short text to keep things manageable\"\n",
    "\n",
    "\n",
    "def readBook(titlePath):\n",
    "    \"\"\"\n",
    "    Read a book return it as a string.\n",
    "    \"\"\"\n",
    "    \n",
    "    with open(titlePath, \"r\", encoding=\"utf8\") as currentFile:\n",
    "        text = currentFile.read() # importanat to add .read() to be able to call .replace() on the object\n",
    "        text = text.replace(\"\\n\", \"\").replace(\"\\r\", \"\")\n",
    "    return(text)"
   ]
  },
  {
   "cell_type": "code",
   "execution_count": 41,
   "metadata": {},
   "outputs": [
    {
     "name": "stdout",
     "output_type": "stream",
     "text": [
      "169275\n"
     ]
    }
   ],
   "source": [
    "titlePath = os.path.join( \"Books\", \"English\", \"shakespeare\", \"Romeo and Juliet.txt\" )\n",
    "text = readBook(titlePath)\n",
    "print(len(text)) # print number of words in the Book."
   ]
  },
  {
   "cell_type": "markdown",
   "metadata": {},
   "source": [
    "Find the specyfic fragment in the book:"
   ]
  },
  {
   "cell_type": "code",
   "execution_count": 43,
   "metadata": {},
   "outputs": [
    {
     "name": "stdout",
     "output_type": "stream",
     "text": [
      "42757\n"
     ]
    }
   ],
   "source": [
    "index = text.find(\"What's in a name?\") # find the sample text and return its char index\n",
    "print(index)"
   ]
  },
  {
   "cell_type": "markdown",
   "metadata": {},
   "source": [
    "Print fragment of the book using found index:"
   ]
  },
  {
   "cell_type": "code",
   "execution_count": 46,
   "metadata": {},
   "outputs": [
    {
     "name": "stdout",
     "output_type": "stream",
     "text": [
      "What's in a name? That which we call a rose    By any other name would smell as sweet.    So Romeo would, were he not Romeo call'd,    Retain that dear perfection which he owes    Without that title. \n"
     ]
    }
   ],
   "source": [
    "sampleText = text[index: index + 200] # 200 chars form the index \n",
    "print(sampleText)"
   ]
  },
  {
   "cell_type": "markdown",
   "metadata": {},
   "source": [
    "## Video 3.2.4: Computing Word Frequency Statistics"
   ]
  },
  {
   "cell_type": "markdown",
   "metadata": {},
   "source": [
    "Given a dictionary or a counter object from the collections module,\n",
    "we would like to know how many unique words there are in a given book.\n",
    "We'd also like to return the frequencies of each word, meaning,\n",
    "count-specifying how many times each word has appeared.\n",
    "To do this we'll be writing a word stats function."
   ]
  },
  {
   "cell_type": "code",
   "execution_count": 43,
   "metadata": {},
   "outputs": [],
   "source": [
    "import os\n",
    "from collections import Counter\n",
    "\n",
    "def readBook(titlePath):\n",
    "    \"\"\"\n",
    "    Read a book return it as a string.\n",
    "    \"\"\"\n",
    "    \n",
    "    with open(titlePath, \"r\", encoding=\"utf8\") as currentFile:\n",
    "        text = currentFile.read() # importanat to add .read() to be able to call .replace() on the object\n",
    "        text = text.replace(\"\\n\", \"\").replace(\"\\r\", \"\")\n",
    "    return(text)\n",
    "\n",
    "def countWordsFast(text):\n",
    "    \"\"\"\n",
    "    Count the number of times each word occures in the input text (str).\n",
    "    Outputs dict with keys - words, values - number of times thay appear\n",
    "    \"\"\"\n",
    "    \n",
    "    text = text.lower()\n",
    "    skip = [\".\",\",\",\";\",\"'\",'\"']\n",
    "    for char in skip:\n",
    "        text = text.replace(char, \"\")\n",
    "    \n",
    "    wordsCounts = Counter(text.split(\" \"))\n",
    "    return(wordsCounts)\n",
    "\n",
    "def wordStats(wordCounts):\n",
    "    \"\"\"Return number of unique words and words frequancy.\"\"\"\n",
    "    numUnique = len(wordCounts) # Number if unique words in the dicronary \n",
    "    counts = wordCounts.values() # number of times particular words appear in the text\n",
    "    return(numUnique, counts)\n",
    "    "
   ]
  },
  {
   "cell_type": "code",
   "execution_count": 6,
   "metadata": {},
   "outputs": [
    {
     "name": "stdout",
     "output_type": "stream",
     "text": [
      "5135\n",
      "40776\n"
     ]
    }
   ],
   "source": [
    "titlePath = os.path.join( \"Books\", \"English\", \"shakespeare\", \"Romeo and Juliet.txt\" )\n",
    "text = readBook(titlePath)\n",
    "wordCount = countWordsFast(text)\n",
    "(numUnique, counts) = wordStats(wordCount)\n",
    "\n",
    "#print(wordCount)\n",
    "print(numUnique)\n",
    "#print(counts)\n",
    "print(sum(counts)) # number of all words in text."
   ]
  },
  {
   "cell_type": "markdown",
   "metadata": {},
   "source": [
    "## Video 3.2.5: Reading Multiple Files"
   ]
  },
  {
   "cell_type": "code",
   "execution_count": 7,
   "metadata": {},
   "outputs": [],
   "source": [
    "import os\n",
    "\n",
    "bookDir = \"./Books\"\n",
    "folder = os.listdir(bookDir) # prints out the list of subdirectories in the bookDir\n",
    "print(folder)"
   ]
  },
  {
   "cell_type": "markdown",
   "metadata": {},
   "source": [
    "to create correct path string we can use os.path.join() method that takes folder/ file names and creats corect path string based on your operating system."
   ]
  },
  {
   "cell_type": "code",
   "execution_count": 11,
   "metadata": {},
   "outputs": [
    {
     "name": "stdout",
     "output_type": "stream",
     "text": [
      "Books\\English\\shakespeare\\Romeo and Juliet.txt\n"
     ]
    }
   ],
   "source": [
    "path = os.path.join( \"Books\", \"English\", \"shakespeare\", \"Romeo and Juliet.txt\" )\n",
    "print(path)"
   ]
  },
  {
   "cell_type": "markdown",
   "metadata": {},
   "source": [
    "Now we can use it to iterate over all the folders and files creating all the possible book paths.\n"
   ]
  },
  {
   "cell_type": "code",
   "execution_count": 10,
   "metadata": {},
   "outputs": [],
   "source": [
    "for language in os.listdir(bookDir):\n",
    "    for author in os.listdir(os.path.join( bookDir, language)):\n",
    "        for title in os.listdir(os.path.join( bookDir, language, author)):\n",
    "            inputfile = os.path.join( bookDir, language, author, title)\n",
    "            #print(inputfile)\n",
    "            "
   ]
  },
  {
   "cell_type": "code",
   "execution_count": 12,
   "metadata": {},
   "outputs": [],
   "source": [
    "for language in os.listdir(bookDir):\n",
    "    for author in os.listdir(os.path.join( bookDir, language)):\n",
    "        for title in os.listdir(os.path.join( bookDir, language, author)):\n",
    "            inputfile = os.path.join( bookDir, language, author, title)\n",
    "            #print(inputfile)\n",
    "            text = readBook(inputfile)\n",
    "            (numUnique, counts) = wordStats(countWordsFast(text))"
   ]
  },
  {
   "cell_type": "markdown",
   "metadata": {},
   "source": [
    "### Pandeas intro \n",
    "Creating table using pandas"
   ]
  },
  {
   "cell_type": "code",
   "execution_count": 14,
   "metadata": {},
   "outputs": [
    {
     "data": {
      "text/html": [
       "<div>\n",
       "<style scoped>\n",
       "    .dataframe tbody tr th:only-of-type {\n",
       "        vertical-align: middle;\n",
       "    }\n",
       "\n",
       "    .dataframe tbody tr th {\n",
       "        vertical-align: top;\n",
       "    }\n",
       "\n",
       "    .dataframe thead th {\n",
       "        text-align: right;\n",
       "    }\n",
       "</style>\n",
       "<table border=\"1\" class=\"dataframe\">\n",
       "  <thead>\n",
       "    <tr style=\"text-align: right;\">\n",
       "      <th></th>\n",
       "      <th>name</th>\n",
       "      <th>age</th>\n",
       "    </tr>\n",
       "  </thead>\n",
       "  <tbody>\n",
       "    <tr>\n",
       "      <th>1</th>\n",
       "      <td>James</td>\n",
       "      <td>22</td>\n",
       "    </tr>\n",
       "    <tr>\n",
       "      <th>2</th>\n",
       "      <td>Jess</td>\n",
       "      <td>34</td>\n",
       "    </tr>\n",
       "  </tbody>\n",
       "</table>\n",
       "</div>"
      ],
      "text/plain": [
       "    name age\n",
       "1  James  22\n",
       "2   Jess  34"
      ]
     },
     "execution_count": 14,
     "metadata": {},
     "output_type": "execute_result"
    }
   ],
   "source": [
    "import pandas as pd\n",
    "\n",
    "table = pd.DataFrame(columns = (\"name\", \"age\"))\n",
    "table.loc[1] = \"James\", 22 # creating first (1) raw\n",
    "table.loc[2] = \"Jess\", 34 # ....\n",
    "\n",
    "table"
   ]
  },
  {
   "cell_type": "code",
   "execution_count": 15,
   "metadata": {},
   "outputs": [],
   "source": [
    "table.columns"
   ]
  },
  {
   "cell_type": "code",
   "execution_count": 15,
   "metadata": {},
   "outputs": [
    {
     "data": {
      "text/plain": [
       "Index(['name', 'age'], dtype='object')"
      ]
     },
     "execution_count": 15,
     "metadata": {},
     "output_type": "execute_result"
    }
   ],
   "source": [
    "Using pandas for Books Case Study. "
   ]
  },
  {
   "cell_type": "code",
   "execution_count": 16,
   "metadata": {},
   "outputs": [],
   "source": [
    "stats = pd.DataFrame(columns = (\"language\",\"author\", \"title\",\"length\", \"unique\"))\n",
    "titleNum = 1\n",
    "\n",
    "\n",
    "for language in os.listdir(bookDir):\n",
    "    for author in os.listdir(os.path.join( bookDir, language)):\n",
    "        for title in os.listdir(os.path.join( bookDir, language, author)):\n",
    "            inputfile = os.path.join( bookDir, language, author, title)\n",
    "            #print(inputfile)\n",
    "            text = readBook(inputfile)\n",
    "            (numUnique, counts) = wordStats(countWordsFast(text))\n",
    "            stats.loc[titleNum] = language, author, title, sum(counts), numUnique \n",
    "            titleNum += 1"
   ]
  },
  {
   "cell_type": "code",
   "execution_count": 26,
   "metadata": {},
   "outputs": [
    {
     "data": {
      "text/html": [
       "<div>\n",
       "<style scoped>\n",
       "    .dataframe tbody tr th:only-of-type {\n",
       "        vertical-align: middle;\n",
       "    }\n",
       "\n",
       "    .dataframe tbody tr th {\n",
       "        vertical-align: top;\n",
       "    }\n",
       "\n",
       "    .dataframe thead th {\n",
       "        text-align: right;\n",
       "    }\n",
       "</style>\n",
       "<table border=\"1\" class=\"dataframe\">\n",
       "  <thead>\n",
       "    <tr style=\"text-align: right;\">\n",
       "      <th></th>\n",
       "      <th>language</th>\n",
       "      <th>author</th>\n",
       "      <th>title</th>\n",
       "      <th>length</th>\n",
       "      <th>unique</th>\n",
       "    </tr>\n",
       "  </thead>\n",
       "  <tbody>\n",
       "    <tr>\n",
       "      <th>1</th>\n",
       "      <td>English</td>\n",
       "      <td>shakespeare</td>\n",
       "      <td>A Midsummer Night's Dream.txt</td>\n",
       "      <td>16103</td>\n",
       "      <td>4345</td>\n",
       "    </tr>\n",
       "    <tr>\n",
       "      <th>2</th>\n",
       "      <td>English</td>\n",
       "      <td>shakespeare</td>\n",
       "      <td>Hamlet.txt</td>\n",
       "      <td>28551</td>\n",
       "      <td>6776</td>\n",
       "    </tr>\n",
       "    <tr>\n",
       "      <th>3</th>\n",
       "      <td>English</td>\n",
       "      <td>shakespeare</td>\n",
       "      <td>Macbeth.txt</td>\n",
       "      <td>16874</td>\n",
       "      <td>4780</td>\n",
       "    </tr>\n",
       "    <tr>\n",
       "      <th>4</th>\n",
       "      <td>English</td>\n",
       "      <td>shakespeare</td>\n",
       "      <td>Othello.txt</td>\n",
       "      <td>26590</td>\n",
       "      <td>5898</td>\n",
       "    </tr>\n",
       "    <tr>\n",
       "      <th>5</th>\n",
       "      <td>English</td>\n",
       "      <td>shakespeare</td>\n",
       "      <td>Richard III.txt</td>\n",
       "      <td>48315</td>\n",
       "      <td>5488</td>\n",
       "    </tr>\n",
       "  </tbody>\n",
       "</table>\n",
       "</div>"
      ],
      "text/plain": [
       "  language       author                          title length unique\n",
       "1  English  shakespeare  A Midsummer Night's Dream.txt  16103   4345\n",
       "2  English  shakespeare                     Hamlet.txt  28551   6776\n",
       "3  English  shakespeare                    Macbeth.txt  16874   4780\n",
       "4  English  shakespeare                    Othello.txt  26590   5898\n",
       "5  English  shakespeare                Richard III.txt  48315   5488"
      ]
     },
     "execution_count": 26,
     "metadata": {},
     "output_type": "execute_result"
    }
   ],
   "source": [
    "# stats # Will pring whole table. \n",
    "\n",
    "head = stats.head() # will print first 5 rows\n",
    "head"
   ]
  },
  {
   "cell_type": "code",
   "execution_count": 25,
   "metadata": {},
   "outputs": [
    {
     "data": {
      "text/html": [
       "<div>\n",
       "<style scoped>\n",
       "    .dataframe tbody tr th:only-of-type {\n",
       "        vertical-align: middle;\n",
       "    }\n",
       "\n",
       "    .dataframe tbody tr th {\n",
       "        vertical-align: top;\n",
       "    }\n",
       "\n",
       "    .dataframe thead th {\n",
       "        text-align: right;\n",
       "    }\n",
       "</style>\n",
       "<table border=\"1\" class=\"dataframe\">\n",
       "  <thead>\n",
       "    <tr style=\"text-align: right;\">\n",
       "      <th></th>\n",
       "      <th>language</th>\n",
       "      <th>author</th>\n",
       "      <th>title</th>\n",
       "      <th>length</th>\n",
       "      <th>unique</th>\n",
       "    </tr>\n",
       "  </thead>\n",
       "  <tbody>\n",
       "    <tr>\n",
       "      <th>98</th>\n",
       "      <td>Portuguese</td>\n",
       "      <td>Queir¢s</td>\n",
       "      <td>O crime do padre Amaro.txt</td>\n",
       "      <td>128630</td>\n",
       "      <td>29716</td>\n",
       "    </tr>\n",
       "    <tr>\n",
       "      <th>99</th>\n",
       "      <td>Portuguese</td>\n",
       "      <td>Queir¢s</td>\n",
       "      <td>O Mandarim.txt</td>\n",
       "      <td>21440</td>\n",
       "      <td>7941</td>\n",
       "    </tr>\n",
       "    <tr>\n",
       "      <th>100</th>\n",
       "      <td>Portuguese</td>\n",
       "      <td>Queir¢s</td>\n",
       "      <td>O Primo Bazilio.txt</td>\n",
       "      <td>107303</td>\n",
       "      <td>28059</td>\n",
       "    </tr>\n",
       "    <tr>\n",
       "      <th>101</th>\n",
       "      <td>Portuguese</td>\n",
       "      <td>Queir¢s</td>\n",
       "      <td>Os Maias.txt</td>\n",
       "      <td>195771</td>\n",
       "      <td>41217</td>\n",
       "    </tr>\n",
       "    <tr>\n",
       "      <th>102</th>\n",
       "      <td>Portuguese</td>\n",
       "      <td>shakespeare</td>\n",
       "      <td>Hamlet.txt</td>\n",
       "      <td>30567</td>\n",
       "      <td>9733</td>\n",
       "    </tr>\n",
       "  </tbody>\n",
       "</table>\n",
       "</div>"
      ],
      "text/plain": [
       "       language       author                       title  length unique\n",
       "98   Portuguese      Queir¢s  O crime do padre Amaro.txt  128630  29716\n",
       "99   Portuguese      Queir¢s              O Mandarim.txt   21440   7941\n",
       "100  Portuguese      Queir¢s         O Primo Bazilio.txt  107303  28059\n",
       "101  Portuguese      Queir¢s                Os Maias.txt  195771  41217\n",
       "102  Portuguese  shakespeare                  Hamlet.txt   30567   9733"
      ]
     },
     "execution_count": 25,
     "metadata": {},
     "output_type": "execute_result"
    }
   ],
   "source": [
    "tail = stats.tail() # will print last 5 rows\n",
    "tail"
   ]
  },
  {
   "cell_type": "markdown",
   "metadata": {},
   "source": [
    "To modyfy the thable you can simply use additional methds while creating it."
   ]
  },
  {
   "cell_type": "code",
   "execution_count": 28,
   "metadata": {},
   "outputs": [],
   "source": [
    "for language in os.listdir(bookDir):\n",
    "    for author in os.listdir(os.path.join( bookDir, language)):\n",
    "        for title in os.listdir(os.path.join( bookDir, language, author)):\n",
    "            inputfile = os.path.join( bookDir, language, author, title)\n",
    "            #print(inputfile)\n",
    "            text = readBook(inputfile)\n",
    "            (numUnique, counts) = wordStats(countWordsFast(text))\n",
    "            stats.loc[titleNum] = language, author.capitalize(), title.replace(\".txt\", \"\"), sum(counts), numUnique \n",
    "            titleNum += 1"
   ]
  },
  {
   "cell_type": "code",
   "execution_count": 29,
   "metadata": {},
   "outputs": [
    {
     "data": {
      "text/html": [
       "<div>\n",
       "<style scoped>\n",
       "    .dataframe tbody tr th:only-of-type {\n",
       "        vertical-align: middle;\n",
       "    }\n",
       "\n",
       "    .dataframe tbody tr th {\n",
       "        vertical-align: top;\n",
       "    }\n",
       "\n",
       "    .dataframe thead th {\n",
       "        text-align: right;\n",
       "    }\n",
       "</style>\n",
       "<table border=\"1\" class=\"dataframe\">\n",
       "  <thead>\n",
       "    <tr style=\"text-align: right;\">\n",
       "      <th></th>\n",
       "      <th>language</th>\n",
       "      <th>author</th>\n",
       "      <th>title</th>\n",
       "      <th>length</th>\n",
       "      <th>unique</th>\n",
       "    </tr>\n",
       "  </thead>\n",
       "  <tbody>\n",
       "    <tr>\n",
       "      <th>200</th>\n",
       "      <td>Portuguese</td>\n",
       "      <td>Queir¢s</td>\n",
       "      <td>O crime do padre Amaro</td>\n",
       "      <td>128630</td>\n",
       "      <td>29716</td>\n",
       "    </tr>\n",
       "    <tr>\n",
       "      <th>201</th>\n",
       "      <td>Portuguese</td>\n",
       "      <td>Queir¢s</td>\n",
       "      <td>O Mandarim</td>\n",
       "      <td>21440</td>\n",
       "      <td>7941</td>\n",
       "    </tr>\n",
       "    <tr>\n",
       "      <th>202</th>\n",
       "      <td>Portuguese</td>\n",
       "      <td>Queir¢s</td>\n",
       "      <td>O Primo Bazilio</td>\n",
       "      <td>107303</td>\n",
       "      <td>28059</td>\n",
       "    </tr>\n",
       "    <tr>\n",
       "      <th>203</th>\n",
       "      <td>Portuguese</td>\n",
       "      <td>Queir¢s</td>\n",
       "      <td>Os Maias</td>\n",
       "      <td>195771</td>\n",
       "      <td>41217</td>\n",
       "    </tr>\n",
       "    <tr>\n",
       "      <th>204</th>\n",
       "      <td>Portuguese</td>\n",
       "      <td>Shakespeare</td>\n",
       "      <td>Hamlet</td>\n",
       "      <td>30567</td>\n",
       "      <td>9733</td>\n",
       "    </tr>\n",
       "  </tbody>\n",
       "</table>\n",
       "</div>"
      ],
      "text/plain": [
       "       language       author                   title  length unique\n",
       "200  Portuguese      Queir¢s  O crime do padre Amaro  128630  29716\n",
       "201  Portuguese      Queir¢s              O Mandarim   21440   7941\n",
       "202  Portuguese      Queir¢s         O Primo Bazilio  107303  28059\n",
       "203  Portuguese      Queir¢s                Os Maias  195771  41217\n",
       "204  Portuguese  Shakespeare                  Hamlet   30567   9733"
      ]
     },
     "execution_count": 29,
     "metadata": {},
     "output_type": "execute_result"
    }
   ],
   "source": [
    "tail = stats.tail() # will print last 5 rows\n",
    "tail"
   ]
  },
  {
   "cell_type": "markdown",
   "metadata": {},
   "source": [
    "## Video 3.2.6: Plotting Book Statistics"
   ]
  },
  {
   "cell_type": "code",
   "execution_count": 34,
   "metadata": {},
   "outputs": [
    {
     "data": {
      "image/png": "[encoded data removed]",
      "text/plain": [
       "<matplotlib.figure.Figure at 0x1aa7cd74198>"
      ]
     },
     "metadata": {},
     "output_type": "display_data"
    }
   ],
   "source": [
    "import matplotlib.pyplot as plt \n",
    "\n",
    "\n",
    "plt.plot(stats.length, stats.unique, \"bo\");\n",
    "plt.show();"
   ]
  },
  {
   "cell_type": "code",
   "execution_count": 36,
   "metadata": {},
   "outputs": [
    {
     "data": {
      "image/png": "[encoded data removed]",
      "text/plain": [
       "<matplotlib.figure.Figure at 0x1aa7ce37c18>"
      ]
     },
     "metadata": {},
     "output_type": "display_data"
    }
   ],
   "source": [
    "#log wersion:\n",
    "    \n",
    "plt.loglog(stats.length, stats.unique, \"bo\");\n",
    "plt.show();"
   ]
  },
  {
   "cell_type": "code",
   "execution_count": 38,
   "metadata": {},
   "outputs": [
    {
     "data": {
      "text/html": [
       "<div>\n",
       "<style scoped>\n",
       "    .dataframe tbody tr th:only-of-type {\n",
       "        vertical-align: middle;\n",
       "    }\n",
       "\n",
       "    .dataframe tbody tr th {\n",
       "        vertical-align: top;\n",
       "    }\n",
       "\n",
       "    .dataframe thead th {\n",
       "        text-align: right;\n",
       "    }\n",
       "</style>\n",
       "<table border=\"1\" class=\"dataframe\">\n",
       "  <thead>\n",
       "    <tr style=\"text-align: right;\">\n",
       "      <th></th>\n",
       "      <th>language</th>\n",
       "      <th>author</th>\n",
       "      <th>title</th>\n",
       "      <th>length</th>\n",
       "      <th>unique</th>\n",
       "    </tr>\n",
       "  </thead>\n",
       "  <tbody>\n",
       "    <tr>\n",
       "      <th>1</th>\n",
       "      <td>English</td>\n",
       "      <td>shakespeare</td>\n",
       "      <td>A Midsummer Night's Dream.txt</td>\n",
       "      <td>16103</td>\n",
       "      <td>4345</td>\n",
       "    </tr>\n",
       "    <tr>\n",
       "      <th>2</th>\n",
       "      <td>English</td>\n",
       "      <td>shakespeare</td>\n",
       "      <td>Hamlet.txt</td>\n",
       "      <td>28551</td>\n",
       "      <td>6776</td>\n",
       "    </tr>\n",
       "    <tr>\n",
       "      <th>3</th>\n",
       "      <td>English</td>\n",
       "      <td>shakespeare</td>\n",
       "      <td>Macbeth.txt</td>\n",
       "      <td>16874</td>\n",
       "      <td>4780</td>\n",
       "    </tr>\n",
       "    <tr>\n",
       "      <th>4</th>\n",
       "      <td>English</td>\n",
       "      <td>shakespeare</td>\n",
       "      <td>Othello.txt</td>\n",
       "      <td>26590</td>\n",
       "      <td>5898</td>\n",
       "    </tr>\n",
       "    <tr>\n",
       "      <th>5</th>\n",
       "      <td>English</td>\n",
       "      <td>shakespeare</td>\n",
       "      <td>Richard III.txt</td>\n",
       "      <td>48315</td>\n",
       "      <td>5488</td>\n",
       "    </tr>\n",
       "    <tr>\n",
       "      <th>6</th>\n",
       "      <td>English</td>\n",
       "      <td>shakespeare</td>\n",
       "      <td>Romeo and Juliet.txt</td>\n",
       "      <td>40776</td>\n",
       "      <td>5135</td>\n",
       "    </tr>\n",
       "    <tr>\n",
       "      <th>7</th>\n",
       "      <td>English</td>\n",
       "      <td>shakespeare</td>\n",
       "      <td>The Merchant of Venice.txt</td>\n",
       "      <td>20949</td>\n",
       "      <td>4978</td>\n",
       "    </tr>\n",
       "    <tr>\n",
       "      <th>103</th>\n",
       "      <td>English</td>\n",
       "      <td>Shakespeare</td>\n",
       "      <td>A Midsummer Night's Dream</td>\n",
       "      <td>16103</td>\n",
       "      <td>4345</td>\n",
       "    </tr>\n",
       "    <tr>\n",
       "      <th>104</th>\n",
       "      <td>English</td>\n",
       "      <td>Shakespeare</td>\n",
       "      <td>Hamlet</td>\n",
       "      <td>28551</td>\n",
       "      <td>6776</td>\n",
       "    </tr>\n",
       "    <tr>\n",
       "      <th>105</th>\n",
       "      <td>English</td>\n",
       "      <td>Shakespeare</td>\n",
       "      <td>Macbeth</td>\n",
       "      <td>16874</td>\n",
       "      <td>4780</td>\n",
       "    </tr>\n",
       "    <tr>\n",
       "      <th>106</th>\n",
       "      <td>English</td>\n",
       "      <td>Shakespeare</td>\n",
       "      <td>Othello</td>\n",
       "      <td>26590</td>\n",
       "      <td>5898</td>\n",
       "    </tr>\n",
       "    <tr>\n",
       "      <th>107</th>\n",
       "      <td>English</td>\n",
       "      <td>Shakespeare</td>\n",
       "      <td>Richard III</td>\n",
       "      <td>48315</td>\n",
       "      <td>5488</td>\n",
       "    </tr>\n",
       "    <tr>\n",
       "      <th>108</th>\n",
       "      <td>English</td>\n",
       "      <td>Shakespeare</td>\n",
       "      <td>Romeo and Juliet</td>\n",
       "      <td>40776</td>\n",
       "      <td>5135</td>\n",
       "    </tr>\n",
       "    <tr>\n",
       "      <th>109</th>\n",
       "      <td>English</td>\n",
       "      <td>Shakespeare</td>\n",
       "      <td>The Merchant of Venice</td>\n",
       "      <td>20949</td>\n",
       "      <td>4978</td>\n",
       "    </tr>\n",
       "  </tbody>\n",
       "</table>\n",
       "</div>"
      ],
      "text/plain": [
       "    language       author                          title length unique\n",
       "1    English  shakespeare  A Midsummer Night's Dream.txt  16103   4345\n",
       "2    English  shakespeare                     Hamlet.txt  28551   6776\n",
       "3    English  shakespeare                    Macbeth.txt  16874   4780\n",
       "4    English  shakespeare                    Othello.txt  26590   5898\n",
       "5    English  shakespeare                Richard III.txt  48315   5488\n",
       "6    English  shakespeare           Romeo and Juliet.txt  40776   5135\n",
       "7    English  shakespeare     The Merchant of Venice.txt  20949   4978\n",
       "103  English  Shakespeare      A Midsummer Night's Dream  16103   4345\n",
       "104  English  Shakespeare                         Hamlet  28551   6776\n",
       "105  English  Shakespeare                        Macbeth  16874   4780\n",
       "106  English  Shakespeare                        Othello  26590   5898\n",
       "107  English  Shakespeare                    Richard III  48315   5488\n",
       "108  English  Shakespeare               Romeo and Juliet  40776   5135\n",
       "109  English  Shakespeare         The Merchant of Venice  20949   4978"
      ]
     },
     "execution_count": 38,
     "metadata": {},
     "output_type": "execute_result"
    }
   ],
   "source": [
    "stats[stats.language == \"English\"] # only the books in english"
   ]
  },
  {
   "cell_type": "code",
   "execution_count": 42,
   "metadata": {},
   "outputs": [
    {
     "data": {
      "image/png": "[encoded data removed]",
      "text/plain": [
       "<matplotlib.figure.Figure at 0x1aa7d8e0128>"
      ]
     },
     "metadata": {},
     "output_type": "display_data"
    }
   ],
   "source": [
    "plt.figure(figsize = (10,10))\n",
    "subset = stats[stats.language == \"English\"]\n",
    "plt.loglog(subset.length, subset.unique, \"o\", label = \"English\", color = \"crimson\")\n",
    "subset = stats[stats.language == \"French\"]\n",
    "plt.loglog(subset.length, subset.unique, \"o\", label = \"French\", color = \"forestgreen\")\n",
    "subset = stats[stats.language == \"German\"]\n",
    "plt.loglog(subset.length, subset.unique, \"o\", label = \"German\", color = \"orange\")\n",
    "subset = stats[stats.language == \"Portuguese\"]\n",
    "plt.loglog(subset.length, subset.unique, \"o\", label = \"Portuguese\", color = \"blueviolet\")\n",
    "\n",
    "plt.legend()\n",
    "plt.xlabel(\"Book length\")\n",
    "plt.ylabel(\"Number of unique words\")\n",
    "plt.savefig(\"LanguagePlot.png\")"
   ]
  },
  {
   "cell_type": "code",
   "execution_count": null,
   "metadata": {},
   "outputs": [],
   "source": []
  }
 ],
 "metadata": {
  "kernelspec": {
   "display_name": "Python 3",
   "language": "python",
   "name": "python3"
  },
  "language_info": {
   "codemirror_mode": {
    "name": "ipython",
    "version": 3
   },
   "file_extension": ".py",
   "mimetype": "text/x-python",
   "name": "python",
   "nbconvert_exporter": "python",
   "pygments_lexer": "ipython3",
   "version": "3.6.4"
  }
 },
 "nbformat": 4,
 "nbformat_minor": 2
}
