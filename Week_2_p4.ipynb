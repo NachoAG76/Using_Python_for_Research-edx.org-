{
 "cells": [
  {
   "cell_type": "markdown",
   "metadata": {},
   "source": [
    "# Week 2\n",
    "## Part 4: Randomness and Time  \n",
    "## Video 2.4.1: Simulating Randomness\n"
   ]
  },
  {
   "cell_type": "code",
   "execution_count": 1,
   "metadata": {},
   "outputs": [],
   "source": [
    "#Import:\n",
    "import random"
   ]
  },
  {
   "cell_type": "code",
   "execution_count": 2,
   "metadata": {},
   "outputs": [
    {
     "name": "stdout",
     "output_type": "stream",
     "text": [
      "T\n"
     ]
    }
   ],
   "source": [
    "# Ex.1: Example of choice() function use\n",
    "\n",
    "coin = random.choice([\"H\",\"T\"]) # randomly select H or T\n",
    "print(coin)"
   ]
  },
  {
   "cell_type": "code",
   "execution_count": 3,
   "metadata": {},
   "outputs": [
    {
     "name": "stdout",
     "output_type": "stream",
     "text": [
      "0\n"
     ]
    }
   ],
   "source": [
    "# Random works with many data types\n",
    "value = random.choice([0,1]) # randomly select 0 or 1\n",
    "print(value)"
   ]
  },
  {
   "cell_type": "code",
   "execution_count": 4,
   "metadata": {},
   "outputs": [
    {
     "name": "stdout",
     "output_type": "stream",
     "text": [
      "5\n"
     ]
    }
   ],
   "source": [
    "# Ex.2: Implementation of a die: ( integer between 1 and 6)\n",
    "\n",
    "die = random.choice([1,2,3,4,5,6]) # randomly select result of the die\n",
    "print(die)"
   ]
  },
  {
   "cell_type": "code",
   "execution_count": 5,
   "metadata": {},
   "outputs": [
    {
     "name": "stdout",
     "output_type": "stream",
     "text": [
      "5\n"
     ]
    }
   ],
   "source": [
    "# Ex.2.1 : Implementation of a die using range.\n",
    "\n",
    "dieR = random.choice(range(1,7)) # randomly select result of the die using range\n",
    "print(dieR)"
   ]
  },
  {
   "cell_type": "markdown",
   "metadata": {},
   "source": [
    "You don't necessarily need to provide a list as input.\n",
    "Instead, any sequence object will do.\n",
    "For example, you can provide **range()** as an argument\n",
    "to the **choice** function."
   ]
  },
  {
   "cell_type": "code",
   "execution_count": 6,
   "metadata": {},
   "outputs": [
    {
     "name": "stdout",
     "output_type": "stream",
     "text": [
      "Die Type: range(1, 7)\n",
      "Die Result: 2\n"
     ]
    }
   ],
   "source": [
    "# Ex.3: Choosing 1 of 3 different dies and then using it in the game:\n",
    "\n",
    "dieType = random.choice([range(1,7), range(1,9), range(1,11)])\n",
    "dieRes = random.choice(dieType)\n",
    "print(\"Die Type: \" + str(dieType) + \"\\nDie Result: \" + str(dieRes))"
   ]
  },
  {
   "cell_type": "code",
   "execution_count": 7,
   "metadata": {},
   "outputs": [
    {
     "name": "stdout",
     "output_type": "stream",
     "text": [
      "4\n"
     ]
    }
   ],
   "source": [
    "# Same example implemented in one line:\n",
    "dieOneLine = random.choice(random.choice([range(1,7), range(1,9), range(1,11)]))\n",
    "print(dieOneLine)"
   ]
  },
  {
   "cell_type": "code",
   "execution_count": 8,
   "metadata": {},
   "outputs": [
    {
     "name": "stdout",
     "output_type": "stream",
     "text": [
      "45\n"
     ]
    }
   ],
   "source": [
    "#Ex4: Sum of 10 ints in range 0-9:\n",
    "\n",
    "sumint = sum(random.choice(range(10)) for i in range(10))\n",
    "print(sumint)"
   ]
  },
  {
   "cell_type": "markdown",
   "metadata": {},
   "source": [
    "## Video 2.4.2: Examples Involving Randomness"
   ]
  },
  {
   "cell_type": "code",
   "execution_count": 9,
   "metadata": {},
   "outputs": [],
   "source": [
    "# Import:\n",
    "import random\n",
    "import matplotlib.pyplot as plt\n",
    "import numpy as np"
   ]
  },
  {
   "cell_type": "markdown",
   "metadata": {},
   "source": [
    "Our first example is to roll a die 100 times\n",
    "and plot a histogram of the outcomes, meaning\n",
    "a histogram that shows how frequent the numbers from 1 to 6\n",
    "appeared in the 100 samples."
   ]
  },
  {
   "cell_type": "code",
   "execution_count": 10,
   "metadata": {},
   "outputs": [
    {
     "data": {
      "image/png": "[encoded data removed]",
      "text/plain": [
       "<Figure size 432x288 with 1 Axes>"
      ]
     },
     "metadata": {},
     "output_type": "display_data"
    }
   ],
   "source": [
    "# Ex.1: \n",
    "rolls = []\n",
    "for k in range(100):\n",
    "    rolls.append(random.choice([1,2,3,4,5,6]))\n",
    "    \n",
    "#print(rolls)\n",
    "plt.hist(rolls, bins= np.linspace(0.5, 6.5, 7));"
   ]
  },
  {
   "cell_type": "markdown",
   "metadata": {},
   "source": [
    "Considering now rolling not one die, but 10 independent dies\n",
    "denoted with x1 to x10. We're going to define a new random variable called y, which is the sum of all of the 10x variables."
   ]
  },
  {
   "cell_type": "code",
   "execution_count": 11,
   "metadata": {},
   "outputs": [
    {
     "data": {
      "image/png": "[encoded data removed]",
      "text/plain": [
       "<Figure size 432x288 with 1 Axes>"
      ]
     },
     "metadata": {},
     "output_type": "display_data"
    }
   ],
   "source": [
    "# Ex.2:\n",
    "\n",
    "ys = []\n",
    "for i in range(1000000):\n",
    "    y = 0\n",
    "    for k in range(10):\n",
    "        x = random.choice([1,2,3,4,5,6])\n",
    "        y = y + x\n",
    "    ys.append(y)\n",
    "\n",
    "#print(ys)\n",
    "plt.hist(ys);"
   ]
  },
  {
   "cell_type": "markdown",
   "metadata": {},
   "source": [
    "You can get a better sense of the shape of the histogram by varying the number of pins\n",
    "that you're using to plot it.\n",
    "But to understand what is really happening we can again get some insights from probability theory.\n",
    "The central limit theorem, or **CLT**,\n",
    "states that the sum of a large number of random variables\n",
    "regardless of their distribution will approximately follow a normal distribution...\n",
    "you can read more about CLT here:  https://en.wikipedia.org/wiki/Central_limit_theorem"
   ]
  },
  {
   "cell_type": "markdown",
   "metadata": {},
   "source": [
    "## Video 2.4.3: Using the NumPy Random Module"
   ]
  },
  {
   "cell_type": "code",
   "execution_count": 12,
   "metadata": {},
   "outputs": [],
   "source": [
    "# Import:\n",
    "import numpy as np\n",
    "import matplotlib.pyplot as plt"
   ]
  },
  {
   "cell_type": "code",
   "execution_count": 13,
   "metadata": {},
   "outputs": [
    {
     "name": "stdout",
     "output_type": "stream",
     "text": [
      "0.10836380936869572\n"
     ]
    }
   ],
   "source": [
    "x = np.random.random() # Generate a number between 0-1 using normal distribution\n",
    "print(x)"
   ]
  },
  {
   "cell_type": "code",
   "execution_count": 14,
   "metadata": {},
   "outputs": [
    {
     "name": "stdout",
     "output_type": "stream",
     "text": [
      "[0.51426632 0.22528805 0.21522347 0.61970646 0.41026483]\n"
     ]
    }
   ],
   "source": [
    "y = np.random.random(5) # Generates an array of 5 numbers in range 0-1.\n",
    "print(y)"
   ]
  },
  {
   "cell_type": "code",
   "execution_count": 15,
   "metadata": {},
   "outputs": [
    {
     "name": "stdout",
     "output_type": "stream",
     "text": [
      "[[0.72018017 0.82459302 0.74700208]\n",
      " [0.77089487 0.04920317 0.57567647]\n",
      " [0.56190632 0.22015836 0.04415838]]\n"
     ]
    }
   ],
   "source": [
    "z = np.random.random((3,3)) # Generate 2D array 3x3 of numbers in range 0-1.\n",
    "print(z)"
   ]
  },
  {
   "cell_type": "code",
   "execution_count": 16,
   "metadata": {},
   "outputs": [
    {
     "name": "stdout",
     "output_type": "stream",
     "text": [
      "1.6432996761619105\n"
     ]
    }
   ],
   "source": [
    "# Standard Normal Distribution - distribution where mean = 0 and standard deviation = 1\n",
    "\n",
    "normal = np.random.normal(0, 1) # first arg - mean; second arg - standard deviation\n",
    "print(normal)"
   ]
  },
  {
   "cell_type": "code",
   "execution_count": 17,
   "metadata": {},
   "outputs": [
    {
     "name": "stdout",
     "output_type": "stream",
     "text": [
      "[ 0.31372382  1.1310173  -1.76487596  0.07014425  0.19855102 -0.13849039]\n"
     ]
    }
   ],
   "source": [
    "normalarray = np.random.normal(0, 1, 6) # 1 arg - mean; 2 arg - standard deviation; 3 arg - number of elements\n",
    "print(normalarray)"
   ]
  },
  {
   "cell_type": "code",
   "execution_count": 18,
   "metadata": {},
   "outputs": [
    {
     "name": "stdout",
     "output_type": "stream",
     "text": [
      "[[[ 0.44307901  1.02528879  0.57141031  0.01208043]\n",
      "  [ 1.39596258  0.63079444 -0.07182132 -1.24378509]\n",
      "  [ 0.64159076  2.00337801 -0.80067898  1.86827879]]\n",
      "\n",
      " [[ 0.61123854 -1.82422942 -2.22079655  0.6185544 ]\n",
      "  [-0.52280123 -1.1912496  -0.20889077 -0.24735517]\n",
      "  [-1.39824066  1.37270064  0.60119977  0.11637718]]]\n"
     ]
    }
   ],
   "source": [
    "# n Dimensional Standard Normal Distribution array:\n",
    "normalNDarray = np.random.normal(0, 1, (2,3,4)) # 1 arg - mean; 2 arg - standard deviation; 3 arg - number of elements\n",
    "print(normalNDarray) # in this case 3 dimensions "
   ]
  },
  {
   "cell_type": "code",
   "execution_count": 19,
   "metadata": {},
   "outputs": [
    {
     "name": "stdout",
     "output_type": "stream",
     "text": [
      "[[6 2 3]\n",
      " [1 6 4]\n",
      " [2 5 4]\n",
      " [6 3 6]\n",
      " [1 3 4]\n",
      " [4 4 4]\n",
      " [3 2 3]\n",
      " [2 6 5]\n",
      " [1 3 1]\n",
      " [3 2 2]]\n",
      "(10, 3)\n"
     ]
    }
   ],
   "source": [
    "X = np.random.randint(1,7,(10,3)) # Generate a random array of the size 10x3 of int in range(1-7)\n",
    "print(X)\n",
    "shape = X.shape # return the shape of an np array\n",
    "print(shape)"
   ]
  },
  {
   "cell_type": "code",
   "execution_count": 20,
   "metadata": {},
   "outputs": [
    {
     "name": "stdout",
     "output_type": "stream",
     "text": [
      "101\n",
      "[29 36 36]\n",
      "[11 11 11 15  8 12  8 13  5  7]\n"
     ]
    }
   ],
   "source": [
    "allSum = np.sum(X) # Sum of all elements in an array\n",
    "print(allSum)\n",
    "\n",
    "rowsSum = np.sum(X, axis = 0) # sum over rows\n",
    "print(rowsSum)\n",
    "columsSum = np.sum(X, axis = 1) # sum over columns\n",
    "print(columsSum)"
   ]
  },
  {
   "cell_type": "code",
   "execution_count": 21,
   "metadata": {},
   "outputs": [
    {
     "data": {
      "image/png": "[encoded data removed]",
      "text/plain": [
       "<Figure size 432x288 with 1 Axes>"
      ]
     },
     "metadata": {},
     "output_type": "display_data"
    }
   ],
   "source": [
    "# Ex.1:\n",
    "X = np.random.randint(1,7,(1000000,10))\n",
    "Y = np.sum(X, axis = 1)\n",
    "plt.hist(Y);\n",
    "plt.show()"
   ]
  },
  {
   "cell_type": "markdown",
   "metadata": {},
   "source": [
    "This is the NumPy implementation of the Ex 2 for the previous video \n",
    "NumPy implementation is shorter and much it runs much Faster. \n",
    "Generally, using NumPy can result in code\n",
    "that runs over **10 times faster** than standard Python code."
   ]
  },
  {
   "cell_type": "markdown",
   "metadata": {},
   "source": [
    "## Video 2.4.4: Measuring Time"
   ]
  },
  {
   "cell_type": "code",
   "execution_count": 22,
   "metadata": {},
   "outputs": [],
   "source": [
    "# Import:\n",
    "import time"
   ]
  },
  {
   "cell_type": "code",
   "execution_count": 23,
   "metadata": {},
   "outputs": [
    {
     "name": "stdout",
     "output_type": "stream",
     "text": [
      "3.595063148666922e-05\n"
     ]
    }
   ],
   "source": [
    "startTime = time.clock()\n",
    "endTime = time.clock()\n",
    "elapsedTime = endTime - startTime\n",
    "print(elapsedTime)"
   ]
  },
  {
   "cell_type": "markdown",
   "metadata": {},
   "source": [
    "Use example to mesure time in Python. "
   ]
  },
  {
   "cell_type": "code",
   "execution_count": 24,
   "metadata": {},
   "outputs": [
    {
     "name": "stdout",
     "output_type": "stream",
     "text": [
      "Python loop Time: 10.255684446690152\n"
     ]
    }
   ],
   "source": [
    "# V1: Standard Python loop:\n",
    "\n",
    "startTime = time.clock()\n",
    "ys = []\n",
    "for i in range(1000000):\n",
    "    y = 0\n",
    "    for k in range(10):\n",
    "        x = random.choice([1,2,3,4,5,6])\n",
    "        y = y + x\n",
    "    ys.append(y)\n",
    "    \n",
    "endTime = time.clock()\n",
    "elapsedTime = endTime - startTime\n",
    "print(\"Python loop Time: \" + str(elapsedTime))"
   ]
  },
  {
   "cell_type": "code",
   "execution_count": 25,
   "metadata": {},
   "outputs": [
    {
     "name": "stdout",
     "output_type": "stream",
     "text": [
      "Python NumPy Time: 0.1486756142915997\n"
     ]
    }
   ],
   "source": [
    "# V2: NumPy implementation of the same problem:\n",
    "\n",
    "startTime = time.clock()\n",
    "X = np.random.randint(1,7,(1000000,10))\n",
    "Y = np.sum(X, axis = 1)\n",
    "\n",
    "endTime = time.clock()\n",
    "elapsedTime = endTime - startTime\n",
    "print(\"Python NumPy Time: \" + str(elapsedTime))\n"
   ]
  },
  {
   "cell_type": "markdown",
   "metadata": {},
   "source": [
    "## Video 2.4.5: Random Walks"
   ]
  },
  {
   "cell_type": "markdown",
   "metadata": {},
   "source": [
    "Random walks are often used in physics and mathematics. \n",
    "For example, they can be used to model random movements of molecules or spatial trajectories of people using GPS data."
   ]
  },
  {
   "cell_type": "markdown",
   "metadata": {},
   "source": [
    "** Mathematical representation of Random Walks:**  \n",
    "  \n",
    "\\begin{align}\n",
    "\\ {x(t=k)}\\ & = \\ x_0 \\ + \\Delta x{(t=1)}\\ + ... + \\Delta x{(t=k)}\\\\  \n",
    "\\end{align}"
   ]
  },
  {
   "cell_type": "markdown",
   "metadata": {},
   "source": [
    "Location **x** of the random walker, at any given time **t**,\n",
    "is given by a cumulative sum of the previous **k** numbers of displacements"
   ]
  },
  {
   "cell_type": "code",
   "execution_count": 27,
   "metadata": {},
   "outputs": [
    {
     "data": {
      "image/png": "[encoded data removed]",
      "text/plain": [
       "<Figure size 432x288 with 1 Axes>"
      ]
     },
     "metadata": {},
     "output_type": "display_data"
    },
    {
     "data": {
      "text/plain": [
       "<Figure size 432x288 with 0 Axes>"
      ]
     },
     "metadata": {},
     "output_type": "display_data"
    }
   ],
   "source": [
    "# Ex.1:\n",
    "\n",
    "# Import:\n",
    "import numpy as np\n",
    "import matplotlib.pyplot as plt\n",
    "\n",
    "# Generate data:\n",
    "X_0 = np.array([[0],[0]]) # initial step 0,0\n",
    "deltaX = np.random.normal(0,1,(2,100)) # random 100 steps \n",
    "X = np.cumsum(deltaX, axis = 1) # cumulative sum - position of the walker\n",
    "Steps = np.concatenate((X_0, X), axis =1)\n",
    "\n",
    "# Plot:\n",
    "plt.plot(Steps[0], Steps[1], \"ro-\")\n",
    "plt.show();\n",
    "plt.savefig(\"res/img/randomWalker.png\")"
   ]
  },
  {
   "cell_type": "code",
   "execution_count": null,
   "metadata": {},
   "outputs": [],
   "source": []
  }
 ],
 "metadata": {
  "kernelspec": {
   "display_name": "Python 3 Anaconda",
   "language": "python",
   "name": "python3_anaconda"
  },
  "language_info": {
   "codemirror_mode": {
    "name": "ipython",
    "version": 3
   },
   "file_extension": ".py",
   "mimetype": "text/x-python",
   "name": "python",
   "nbconvert_exporter": "python",
   "pygments_lexer": "ipython3",
   "version": "3.6.5"
  }
 },
 "nbformat": 4,
 "nbformat_minor": 2
}
