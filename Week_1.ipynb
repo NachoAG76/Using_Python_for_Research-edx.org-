{
 "cells": [
  {
   "cell_type": "markdown",
   "metadata": {},
   "source": [
    "# Week 1 - Basics of Python 3\n",
    "## Part 3: Manipulating Objects Comprehension Check\n",
    "## Video 1.3.6: Reading and Writing Files"
   ]
  },
  {
   "cell_type": "markdown",
   "metadata": {},
   "source": [
    "** 1. Reading the file**"
   ]
  },
  {
   "cell_type": "code",
   "execution_count": 2,
   "metadata": {},
   "outputs": [
    {
     "name": "stdout",
     "output_type": "stream",
     "text": [
      "Hello\n",
      "\n",
      "World\n"
     ]
    }
   ],
   "source": [
    "# filr name string:\n",
    "filename = \"input.txt\"\n",
    "\n",
    "# read file:\n",
    "for line in open(filename):\n",
    "    print(line)"
   ]
  },
  {
   "cell_type": "code",
   "execution_count": 4,
   "metadata": {},
   "outputs": [
    {
     "name": "stdout",
     "output_type": "stream",
     "text": [
      "Hello\n",
      "World\n"
     ]
    }
   ],
   "source": [
    "filename = \"input.txt\"\n",
    "\n",
    "for line in open(filename):\n",
    "    line = line.rstrip() # remove extra line \n",
    "    print(line)"
   ]
  },
  {
   "cell_type": "code",
   "execution_count": 5,
   "metadata": {},
   "outputs": [
    {
     "name": "stdout",
     "output_type": "stream",
     "text": [
      "['Hello']\n",
      "['World']\n"
     ]
    }
   ],
   "source": [
    "for line in open(filename):\n",
    "    line = line.rstrip().split(\" \") # setarate elements in the file.\n",
    "    print(line)"
   ]
  },
  {
   "cell_type": "markdown",
   "metadata": {},
   "source": [
    "**2. Writing to the file**"
   ]
  },
  {
   "cell_type": "code",
   "execution_count": 6,
   "metadata": {},
   "outputs": [],
   "source": [
    "F = open(\"output.txt\", \"w\") # extra argument w - write\n",
    "F.write(\"Python\\n\") # write string to the file \n",
    "F.close() # close the file\n",
    "\n"
   ]
  },
  {
   "cell_type": "code",
   "execution_count": 8,
   "metadata": {},
   "outputs": [
    {
     "name": "stdout",
     "output_type": "stream",
     "text": [
      "['Hello', 'World']\n"
     ]
    }
   ],
   "source": [
    "F = open(\"input.txt\", \"w\") \n",
    "F.write(\"Hello\\nWorld\") \n",
    "F.close() \n",
    "lines = [] \n",
    "\n",
    "for line in open(\"input.txt\"): \n",
    "    lines.append(line.strip()) \n",
    "print(lines) "
   ]
  },
  {
   "cell_type": "markdown",
   "metadata": {},
   "source": [
    "## Video 1.3.7: Introduction to Functions"
   ]
  },
  {
   "cell_type": "code",
   "execution_count": 9,
   "metadata": {},
   "outputs": [],
   "source": [
    "# Example function definition.\n",
    "\n",
    "def add(a,b):\n",
    "    return(a+b)\n"
   ]
  },
  {
   "cell_type": "code",
   "execution_count": 10,
   "metadata": {},
   "outputs": [],
   "source": [
    "# is_vowel function definition.\n",
    "\n",
    "def is_vowel(letter):\n",
    "    if letter in \"aeiouy\":\n",
    "        return(True)\n",
    "    else:\n",
    "        return(False)"
   ]
  },
  {
   "cell_type": "code",
   "execution_count": 12,
   "metadata": {},
   "outputs": [
    {
     "data": {
      "text/plain": [
       "True"
      ]
     },
     "execution_count": 12,
     "metadata": {},
     "output_type": "execute_result"
    }
   ],
   "source": [
    "# calling the function:\n",
    "is_vowel(\"e\")\n"
   ]
  },
  {
   "cell_type": "code",
   "execution_count": 36,
   "metadata": {},
   "outputs": [],
   "source": [
    "def factorial(x):\n",
    "    if x == 0 or x == 1:\n",
    "        return 1\n",
    "    else:\n",
    "        n = 1\n",
    "        factorial = n * x\n",
    "        while n < x:\n",
    "            factorial = factorial * (n)\n",
    "            n = n + 1\n",
    "        return factorial"
   ]
  },
  {
   "cell_type": "code",
   "execution_count": 38,
   "metadata": {},
   "outputs": [
    {
     "data": {
      "text/plain": [
       "120"
      ]
     },
     "execution_count": 38,
     "metadata": {},
     "output_type": "execute_result"
    }
   ],
   "source": [
    "# Call the function factorial passing argument 5\n",
    "\n",
    "factorial(5)"
   ]
  },
  {
   "cell_type": "markdown",
   "metadata": {},
   "source": [
    "## Video 1.3.9: Common Mistakes and Errors"
   ]
  },
  {
   "cell_type": "code",
   "execution_count": 39,
   "metadata": {},
   "outputs": [],
   "source": [
    "import string\n",
    "\n",
    "alphabet = str(string.ascii_letters)"
   ]
  },
  {
   "cell_type": "code",
   "execution_count": 40,
   "metadata": {},
   "outputs": [
    {
     "name": "stdout",
     "output_type": "stream",
     "text": [
      "abcdefghijklmnopqrstuvwxyzABCDEFGHIJKLMNOPQRSTUVWXYZ\n"
     ]
    }
   ],
   "source": [
    "print(alphabet)"
   ]
  },
  {
   "cell_type": "markdown",
   "metadata": {},
   "source": [
    "Consider the sentence 'Jim quickly realized that the beautiful gowns are expensive'. Create a dictionary count_letters with keys consisting of each unique letter in the sentence and values consisting of the number of times each letter is used in this sentence. Count upper case and lower case letters separately in the dictionary."
   ]
  },
  {
   "cell_type": "code",
   "execution_count": 41,
   "metadata": {},
   "outputs": [
    {
     "name": "stdout",
     "output_type": "stream",
     "text": [
      "{'n': 2, 'i': 5, 'h': 2, 'q': 1, 'd': 1, 'a': 4, 't': 4, 'z': 1, 'l': 3, 'g': 1, 'm': 1, 'y': 1, 'c': 1, 'k': 1, 'e': 8, 's': 2, 'J': 1, 'o': 1, 'w': 1, 'b': 1, 'u': 3, 'r': 2, 'x': 1, 'f': 1, 'v': 1, 'p': 1}\n"
     ]
    }
   ],
   "source": [
    "sentence = 'Jim quickly realized that the beautiful gowns are expensive'\n",
    "count_letters = {}\n",
    "leters = set(sentence)\n",
    "\n",
    "for k in leters:\n",
    "    count_letters[str(k)] =0\n",
    "\n",
    "for elem in sentence:\n",
    "    count_letters[elem] +=1\n",
    "    \n",
    "count_letters.pop(\" \")\n",
    "\n",
    "print(count_letters)"
   ]
  },
  {
   "cell_type": "code",
   "execution_count": 43,
   "metadata": {},
   "outputs": [
    {
     "name": "stdout",
     "output_type": "stream",
     "text": [
      "{'n': 2, 'i': 5, 'h': 2, 'q': 1, 'd': 1, 'a': 4, 't': 4, 'z': 1, 'l': 3, 'g': 1, 'm': 1, 'y': 1, 'c': 1, 'k': 1, 'e': 8, 's': 2, 'J': 1, 'o': 1, 'w': 1, 'b': 1, 'u': 3, 'r': 2, 'x': 1, 'f': 1, 'v': 1, 'p': 1}\n"
     ]
    }
   ],
   "source": [
    "sentence = 'Jim quickly realized that the beautiful gowns are expensive'\n",
    "\n",
    "def counter(sentence):\n",
    "    count_letters = {}\n",
    "    leters = set(sentence)\n",
    "\n",
    "    for k in leters:\n",
    "        count_letters[str(k)] =0\n",
    "\n",
    "    for elem in sentence:\n",
    "        count_letters[elem] +=1\n",
    "    \n",
    "    count_letters.pop(\" \")\n",
    "    return(count_letters)\n",
    "    \n",
    "ans = counter(sentence)\n",
    "print(ans)"
   ]
  },
  {
   "cell_type": "markdown",
   "metadata": {},
   "source": [
    "Abraham Lincoln was a president during the American Civil War. His famous 1863 Gettysburg Address has been stored as address, and the counter function as defined in part 1c has been loaded. Use these to return a dictionary consisting of the count of each letter in this address, and save this as address_count.\n",
    "Print address_count."
   ]
  },
  {
   "cell_type": "code",
   "execution_count": 44,
   "metadata": {},
   "outputs": [
    {
     "data": {
      "text/plain": [
       "dict"
      ]
     },
     "execution_count": 44,
     "metadata": {},
     "output_type": "execute_result"
    }
   ],
   "source": [
    "import operator\n",
    "stats = counter(sentence)\n",
    "type(stats)"
   ]
  },
  {
   "cell_type": "code",
   "execution_count": 45,
   "metadata": {},
   "outputs": [
    {
     "data": {
      "text/plain": [
       "dict_keys(['n', 'i', 'h', 'q', 'd', 'a', 't', 'z', 'l', 'g', 'm', 'y', 'c', 'k', 'e', 's', 'J', 'o', 'w', 'b', 'u', 'r', 'x', 'f', 'v', 'p'])"
      ]
     },
     "execution_count": 45,
     "metadata": {},
     "output_type": "execute_result"
    }
   ],
   "source": [
    "stats.keys() # all the keys "
   ]
  },
  {
   "cell_type": "code",
   "execution_count": 46,
   "metadata": {},
   "outputs": [
    {
     "data": {
      "text/plain": [
       "dict_values([2, 5, 2, 1, 1, 4, 4, 1, 3, 1, 1, 1, 1, 1, 8, 2, 1, 1, 1, 1, 3, 2, 1, 1, 1, 1])"
      ]
     },
     "execution_count": 46,
     "metadata": {},
     "output_type": "execute_result"
    }
   ],
   "source": [
    "stats.values() # all the values "
   ]
  },
  {
   "cell_type": "code",
   "execution_count": 47,
   "metadata": {},
   "outputs": [
    {
     "data": {
      "text/plain": [
       "'e'"
      ]
     },
     "execution_count": 47,
     "metadata": {},
     "output_type": "execute_result"
    }
   ],
   "source": [
    "# Import:\n",
    "import operator # must have to use .itemgetter\n",
    "\n",
    "# returns key of the max value - most used letter.\n",
    "max(stats.items(), key=operator.itemgetter(1))[0]\n"
   ]
  },
  {
   "cell_type": "code",
   "execution_count": 50,
   "metadata": {},
   "outputs": [
    {
     "name": "stdout",
     "output_type": "stream",
     "text": [
      "3.141592653589793\n",
      "1.4142135623730951\n"
     ]
    }
   ],
   "source": [
    "# Another usefull basic module:\n",
    "import math\n",
    "\n",
    "# Math contains many usefull mathematical operations and constance example\n",
    "print(math.pi)\n",
    "print(math.sqrt(2))"
   ]
  },
  {
   "cell_type": "code",
   "execution_count": 52,
   "metadata": {},
   "outputs": [
    {
     "data": {
      "text/plain": [
       "0.4464143016019648"
      ]
     },
     "execution_count": 52,
     "metadata": {},
     "output_type": "execute_result"
    }
   ],
   "source": [
    "# Another usefull basic package:\n",
    "import random\n",
    "\n",
    "# Random module contains several usefull methods tor generating and dealing with random data:\n",
    "\n",
    "def rand():\n",
    "    # doc string is used to describe wat function does:\n",
    "    '''functions returning random float from range -1, 1'''\n",
    "    return(random.uniform(-1,1))\n",
    "\n",
    "# function call:\n",
    "rand()"
   ]
  },
  {
   "cell_type": "code",
   "execution_count": null,
   "metadata": {},
   "outputs": [],
   "source": []
  },
  {
   "cell_type": "code",
   "execution_count": null,
   "metadata": {},
   "outputs": [],
   "source": []
  }
 ],
 "metadata": {
  "kernelspec": {
   "display_name": "Python 3",
   "language": "python",
   "name": "python3"
  },
  "language_info": {
   "codemirror_mode": {
    "name": "ipython",
    "version": 3
   },
   "file_extension": ".py",
   "mimetype": "text/x-python",
   "name": "python",
   "nbconvert_exporter": "python",
   "pygments_lexer": "ipython3",
   "version": "3.6.4"
  }
 },
 "nbformat": 4,
 "nbformat_minor": 2
}
